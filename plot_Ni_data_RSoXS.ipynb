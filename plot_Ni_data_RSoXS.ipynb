{
 "cells": [
  {
   "cell_type": "code",
   "execution_count": 2,
   "metadata": {},
   "outputs": [],
   "source": [
    "# Import packages\n",
    "from dash import Dash, html, dcc, callback, Output, Input\n",
    "import pandas as pd\n",
    "import plotly.express as px\n",
    "import dash_bootstrap_components as dbc\n",
    "\n",
    "from os import listdir\n",
    "from os.path import isfile, join\n",
    "import numpy as np\n",
    "from functools import reduce"
   ]
  },
  {
   "cell_type": "code",
   "execution_count": 4,
   "metadata": {},
   "outputs": [
    {
     "data": {
      "text/html": [
       "<div>\n",
       "<style scoped>\n",
       "    .dataframe tbody tr th:only-of-type {\n",
       "        vertical-align: middle;\n",
       "    }\n",
       "\n",
       "    .dataframe tbody tr th {\n",
       "        vertical-align: top;\n",
       "    }\n",
       "\n",
       "    .dataframe thead th {\n",
       "        text-align: right;\n",
       "    }\n",
       "</style>\n",
       "<table border=\"1\" class=\"dataframe\">\n",
       "  <thead>\n",
       "    <tr style=\"text-align: right;\">\n",
       "      <th></th>\n",
       "      <th>Unnamed: 0</th>\n",
       "      <th>order_list</th>\n",
       "      <th>energy_list</th>\n",
       "      <th>theta_list</th>\n",
       "      <th>file_list</th>\n",
       "      <th>intensity_list</th>\n",
       "      <th>x_list</th>\n",
       "      <th>y_list</th>\n",
       "      <th>file_name</th>\n",
       "      <th>normalized_intensity_list</th>\n",
       "    </tr>\n",
       "  </thead>\n",
       "  <tbody>\n",
       "    <tr>\n",
       "      <th>0</th>\n",
       "      <td>0</td>\n",
       "      <td>-4</td>\n",
       "      <td>280.0</td>\n",
       "      <td>-95.0</td>\n",
       "      <td>Captured Image 1215115332.fits</td>\n",
       "      <td>34.579377</td>\n",
       "      <td>535.0</td>\n",
       "      <td>47.0</td>\n",
       "      <td>F0072_latent_L.csv</td>\n",
       "      <td>0.017313</td>\n",
       "    </tr>\n",
       "    <tr>\n",
       "      <th>1</th>\n",
       "      <td>1</td>\n",
       "      <td>-4</td>\n",
       "      <td>280.0</td>\n",
       "      <td>-90.0</td>\n",
       "      <td>Captured Image 1215114933.fits</td>\n",
       "      <td>30.513297</td>\n",
       "      <td>534.0</td>\n",
       "      <td>50.0</td>\n",
       "      <td>F0072_latent_L.csv</td>\n",
       "      <td>0.015892</td>\n",
       "    </tr>\n",
       "    <tr>\n",
       "      <th>2</th>\n",
       "      <td>2</td>\n",
       "      <td>-4</td>\n",
       "      <td>280.0</td>\n",
       "      <td>-80.0</td>\n",
       "      <td>Captured Image 1215120006.fits</td>\n",
       "      <td>28.282794</td>\n",
       "      <td>533.0</td>\n",
       "      <td>31.0</td>\n",
       "      <td>F0072_latent_L.csv</td>\n",
       "      <td>0.013994</td>\n",
       "    </tr>\n",
       "    <tr>\n",
       "      <th>3</th>\n",
       "      <td>3</td>\n",
       "      <td>-4</td>\n",
       "      <td>280.0</td>\n",
       "      <td>-75.0</td>\n",
       "      <td>Captured Image 1215120108.fits</td>\n",
       "      <td>26.688761</td>\n",
       "      <td>531.0</td>\n",
       "      <td>13.0</td>\n",
       "      <td>F0072_latent_L.csv</td>\n",
       "      <td>0.012388</td>\n",
       "    </tr>\n",
       "    <tr>\n",
       "      <th>4</th>\n",
       "      <td>4</td>\n",
       "      <td>-4</td>\n",
       "      <td>285.2</td>\n",
       "      <td>-95.0</td>\n",
       "      <td>Captured Image 1215115245.fits</td>\n",
       "      <td>185.607493</td>\n",
       "      <td>535.0</td>\n",
       "      <td>61.0</td>\n",
       "      <td>F0072_latent_L.csv</td>\n",
       "      <td>0.371114</td>\n",
       "    </tr>\n",
       "    <tr>\n",
       "      <th>...</th>\n",
       "      <td>...</td>\n",
       "      <td>...</td>\n",
       "      <td>...</td>\n",
       "      <td>...</td>\n",
       "      <td>...</td>\n",
       "      <td>...</td>\n",
       "      <td>...</td>\n",
       "      <td>...</td>\n",
       "      <td>...</td>\n",
       "      <td>...</td>\n",
       "    </tr>\n",
       "    <tr>\n",
       "      <th>3582</th>\n",
       "      <td>270</td>\n",
       "      <td>4</td>\n",
       "      <td>288.6</td>\n",
       "      <td>-85.0</td>\n",
       "      <td>Captured Image 1215130411.fits</td>\n",
       "      <td>27516.844448</td>\n",
       "      <td>549.0</td>\n",
       "      <td>970.0</td>\n",
       "      <td>F0074_dvlp_L.csv</td>\n",
       "      <td>0.051783</td>\n",
       "    </tr>\n",
       "    <tr>\n",
       "      <th>3583</th>\n",
       "      <td>271</td>\n",
       "      <td>4</td>\n",
       "      <td>288.6</td>\n",
       "      <td>-80.0</td>\n",
       "      <td>Captured Image 1215130449.fits</td>\n",
       "      <td>26284.403247</td>\n",
       "      <td>549.0</td>\n",
       "      <td>970.0</td>\n",
       "      <td>F0074_dvlp_L.csv</td>\n",
       "      <td>0.050581</td>\n",
       "    </tr>\n",
       "    <tr>\n",
       "      <th>3584</th>\n",
       "      <td>272</td>\n",
       "      <td>4</td>\n",
       "      <td>288.6</td>\n",
       "      <td>-75.0</td>\n",
       "      <td>Captured Image 1215130906.fits</td>\n",
       "      <td>20757.981767</td>\n",
       "      <td>550.0</td>\n",
       "      <td>975.0</td>\n",
       "      <td>F0074_dvlp_L.csv</td>\n",
       "      <td>0.041760</td>\n",
       "    </tr>\n",
       "    <tr>\n",
       "      <th>3585</th>\n",
       "      <td>273</td>\n",
       "      <td>4</td>\n",
       "      <td>288.6</td>\n",
       "      <td>-70.0</td>\n",
       "      <td>Captured Image 1215131018.fits</td>\n",
       "      <td>13259.771750</td>\n",
       "      <td>551.0</td>\n",
       "      <td>983.0</td>\n",
       "      <td>F0074_dvlp_L.csv</td>\n",
       "      <td>0.028319</td>\n",
       "    </tr>\n",
       "    <tr>\n",
       "      <th>3586</th>\n",
       "      <td>274</td>\n",
       "      <td>4</td>\n",
       "      <td>288.6</td>\n",
       "      <td>-65.0</td>\n",
       "      <td>Captured Image 1215131448.fits</td>\n",
       "      <td>6579.435054</td>\n",
       "      <td>551.0</td>\n",
       "      <td>994.0</td>\n",
       "      <td>F0074_dvlp_L.csv</td>\n",
       "      <td>0.016215</td>\n",
       "    </tr>\n",
       "  </tbody>\n",
       "</table>\n",
       "<p>3587 rows × 10 columns</p>\n",
       "</div>"
      ],
      "text/plain": [
       "      Unnamed: 0  order_list  energy_list  theta_list  \\\n",
       "0              0          -4        280.0       -95.0   \n",
       "1              1          -4        280.0       -90.0   \n",
       "2              2          -4        280.0       -80.0   \n",
       "3              3          -4        280.0       -75.0   \n",
       "4              4          -4        285.2       -95.0   \n",
       "...          ...         ...          ...         ...   \n",
       "3582         270           4        288.6       -85.0   \n",
       "3583         271           4        288.6       -80.0   \n",
       "3584         272           4        288.6       -75.0   \n",
       "3585         273           4        288.6       -70.0   \n",
       "3586         274           4        288.6       -65.0   \n",
       "\n",
       "                           file_list  intensity_list  x_list  y_list  \\\n",
       "0     Captured Image 1215115332.fits       34.579377   535.0    47.0   \n",
       "1     Captured Image 1215114933.fits       30.513297   534.0    50.0   \n",
       "2     Captured Image 1215120006.fits       28.282794   533.0    31.0   \n",
       "3     Captured Image 1215120108.fits       26.688761   531.0    13.0   \n",
       "4     Captured Image 1215115245.fits      185.607493   535.0    61.0   \n",
       "...                              ...             ...     ...     ...   \n",
       "3582  Captured Image 1215130411.fits    27516.844448   549.0   970.0   \n",
       "3583  Captured Image 1215130449.fits    26284.403247   549.0   970.0   \n",
       "3584  Captured Image 1215130906.fits    20757.981767   550.0   975.0   \n",
       "3585  Captured Image 1215131018.fits    13259.771750   551.0   983.0   \n",
       "3586  Captured Image 1215131448.fits     6579.435054   551.0   994.0   \n",
       "\n",
       "               file_name  normalized_intensity_list  \n",
       "0     F0072_latent_L.csv                   0.017313  \n",
       "1     F0072_latent_L.csv                   0.015892  \n",
       "2     F0072_latent_L.csv                   0.013994  \n",
       "3     F0072_latent_L.csv                   0.012388  \n",
       "4     F0072_latent_L.csv                   0.371114  \n",
       "...                  ...                        ...  \n",
       "3582    F0074_dvlp_L.csv                   0.051783  \n",
       "3583    F0074_dvlp_L.csv                   0.050581  \n",
       "3584    F0074_dvlp_L.csv                   0.041760  \n",
       "3585    F0074_dvlp_L.csv                   0.028319  \n",
       "3586    F0074_dvlp_L.csv                   0.016215  \n",
       "\n",
       "[3587 rows x 10 columns]"
      ]
     },
     "execution_count": 4,
     "metadata": {},
     "output_type": "execute_result"
    }
   ],
   "source": [
    "# Incorporate data\n",
    "path = './data/20241215'\n",
    "#path = '/home/kas/Projects/Ni_project/exp_data_paper/20240524_YaoYang/'\n",
    "onlyfiles_keys = [f for f in listdir(path) if isfile(join(path, f)) and f.endswith('.csv')]\n",
    "exp_data_all = []\n",
    "E_all = []\n",
    "order_all = []\n",
    "theta_all = []\n",
    "\n",
    "for file in onlyfiles_keys:\n",
    "    file_path = join(path, file)\n",
    "    df = pd.read_csv(file_path)#.groupby('file_list', as_index=False)\n",
    "    df['file_name'] = file  # Add the file name column\n",
    "    file_uni = np.unique(df['file_list'])\n",
    "    # Iterate over each unique 'file_list' value\n",
    "    for f in file_uni:\n",
    "        # Create a mask for the current 'file_list' value\n",
    "        mask = df['file_list'] == f\n",
    "        \n",
    "        # Normalize 'order_list' for the current 'file_list' value by the value where 'order_list' is 1\n",
    "        norm_value = df.loc[mask & (df['order_list'] == 1), 'intensity_list'].values[0]\n",
    "        df.loc[mask, 'normalized_intensity_list'] = df.loc[mask, 'intensity_list'] / norm_value\n",
    "\n",
    "    theta_all.append(np.unique(df['theta_list']))\n",
    "    order_all.append(np.unique(df['order_list']))\n",
    "    E_all.append(np.unique(df['energy_list']))\n",
    "    exp_data_all.append(df)\n",
    "\n",
    "# Concatenate all DataFrames into one\n",
    "combined_df = pd.concat(exp_data_all, ignore_index=True)\n",
    "\n",
    "# Unique values for orders, energies, and thetas\n",
    "orders = np.unique(np.concatenate(order_all))\n",
    "energies = np.unique(np.concatenate(E_all))\n",
    "thetas = np.unique(np.concatenate(theta_all))\n",
    "\n",
    "# Print the combined DataFrame\n",
    "combined_df\n"
   ]
  },
  {
   "cell_type": "code",
   "execution_count": 5,
   "metadata": {},
   "outputs": [],
   "source": [
    "def update_graph(entry, order,scale,norm):\n",
    "    df_list = []\n",
    "    names = []\n",
    "    for i in entry:\n",
    "        e_uni_temp = np.unique(exp_data_all[i]['energy_list'])\n",
    "        for o in order:\n",
    "            for e in e_uni_temp:\n",
    "                mask = (exp_data_all[i]['order_list'] == o) & (exp_data_all[i]['energy_list'] == e)\n",
    "                name = onlyfiles_keys[i] + ' ' + str(o)+ ' ' + str(e)\n",
    "                if norm:\n",
    "                    df_list.append(exp_data_all[i][['theta_list', 'normalized_intensity_list']][mask].rename(columns={'normalized_intensity_list': name}))\n",
    "                else:\n",
    "                    df_list.append(exp_data_all[i][['theta_list', 'intensity_list']][mask].rename(columns={'intensity_list': name}))\n",
    "                names.append(name)\n",
    "    \n",
    "    df = reduce(lambda x, y: x.merge(y, on='theta_list', how='outer'), df_list)\n",
    "    #fig = px.scatter(df, x='theta_list', y=names)\n",
    "    #fig.update_xaxes(range=[np.min(thetas)-0.5, np.max(thetas)+0.5])\n",
    "    #fig.update_layout( yaxis_type=scale)\n",
    "    return df #fig"
   ]
  },
  {
   "cell_type": "code",
   "execution_count": 13,
   "metadata": {},
   "outputs": [],
   "source": [
    "def update_graph(entry, order, scale, norm):\n",
    "    filtered_df = combined_df[combined_df['file_name'].isin(entry) & combined_df['order_list'].isin(order)]\n",
    "    \n",
    "    #if norm:\n",
    "    #    value_column = 'normalized_intensity_list'\n",
    "    #else:\n",
    "    #    value_column = 'intensity_list'\n",
    "    \n",
    "    #pivot_df = filtered_df.pivot_table(\n",
    "    #    index='theta_list',\n",
    "    #    columns=['file_name', 'order_list', 'energy_list'],\n",
    "    #   values=value_column,\n",
    "    #    aggfunc='first'\n",
    "    #).reset_index()\n",
    "    #print(pivot_df.columns.levels[1:])\n",
    "    ## Flatten the multi-level column index\n",
    "    #pivot_df.columns = ['theta_list'] + [\n",
    "    #    f\"{file_name} {o} {e}\" for file_name, o, e in pivot_df.columns.levels[1:]\n",
    "    #\n",
    "    \n",
    "    #fig = px.scatter(pivot_df, x='theta_list', y=pivot_df.columns[1:])\n",
    "    #fig.update_xaxes(range=[np.min(thetas)-0.5, np.max(thetas)+0.5])\n",
    "    #fig.update_layout(yaxis_type=scale)\n",
    "    return filtered_df #fig\n"
   ]
  },
  {
   "cell_type": "code",
   "execution_count": 32,
   "metadata": {},
   "outputs": [],
   "source": [
    "#import plotly.express as px\n",
    "\n",
    "def update_graph(entry, order, scale, norm):\n",
    "    files = [onlyfiles_keys[i] for i in entry]\n",
    "    filtered_df = combined_df[combined_df['file_name'].isin(files) & combined_df['order_list'].isin(order)]\n",
    "    \n",
    "    if norm:\n",
    "        value_column = 'normalized_intensity_list'\n",
    "    else:\n",
    "        value_column = 'intensity_list'\n",
    "    \n",
    "    filtered_df['label'] = filtered_df.apply(lambda row: f\"{row['order_list']} {row['file_name']} {row['energy_list']}\", axis=1)\n",
    "    \n",
    "    fig = px.scatter(filtered_df, x='theta_list', y=value_column, color='label')\n",
    "    fig.update_xaxes(range=[np.min(thetas)-0.5, np.max(thetas)+0.5])\n",
    "    fig.update_layout(yaxis_type=scale)\n",
    "    \n",
    "    fig.show()\n",
    "\n",
    "# Example usage\n",
    "#update_graph(['file1.csv', 'file2.csv'], [1, 2], 'linear', True)\n"
   ]
  },
  {
   "cell_type": "code",
   "execution_count": 33,
   "metadata": {},
   "outputs": [
    {
     "name": "stderr",
     "output_type": "stream",
     "text": [
      "/tmp/ipykernel_372232/2384604442.py:12: SettingWithCopyWarning:\n",
      "\n",
      "\n",
      "A value is trying to be set on a copy of a slice from a DataFrame.\n",
      "Try using .loc[row_indexer,col_indexer] = value instead\n",
      "\n",
      "See the caveats in the documentation: https://pandas.pydata.org/pandas-docs/stable/user_guide/indexing.html#returning-a-view-versus-a-copy\n",
      "\n"
     ]
    },
    {
     "data": {
      "application/vnd.plotly.v1+json": {
       "config": {
        "plotlyServerURL": "https://plot.ly"
       },
       "data": [
        {
         "hovertemplate": "label=-4 F0074_PEB_L.csv 280.0<br>theta_list=%{x}<br>intensity_list=%{y}<extra></extra>",
         "legendgroup": "-4 F0074_PEB_L.csv 280.0",
         "marker": {
          "color": "#636efa",
          "symbol": "circle"
         },
         "mode": "markers",
         "name": "-4 F0074_PEB_L.csv 280.0",
         "orientation": "v",
         "showlegend": true,
         "type": "scatter",
         "x": [
          -95,
          -90,
          -90,
          -85,
          -80,
          -75
         ],
         "xaxis": "x",
         "y": [
          35.738090983808945,
          37.36307693972462,
          37.01138817603162,
          34.932098134149406,
          29.202116096146455,
          18.580218083070083
         ],
         "yaxis": "y"
        },
        {
         "hovertemplate": "label=-4 F0074_PEB_L.csv 285.2<br>theta_list=%{x}<br>intensity_list=%{y}<extra></extra>",
         "legendgroup": "-4 F0074_PEB_L.csv 285.2",
         "marker": {
          "color": "#EF553B",
          "symbol": "circle"
         },
         "mode": "markers",
         "name": "-4 F0074_PEB_L.csv 285.2",
         "orientation": "v",
         "showlegend": true,
         "type": "scatter",
         "x": [
          -95,
          -90,
          -90,
          -85,
          -80,
          -75,
          -70
         ],
         "xaxis": "x",
         "y": [
          133.6143559589322,
          131.53344279242887,
          175.32938572569543,
          131.26319605901023,
          105.98955743054805,
          58.00127063820709,
          13.695903541938952
         ],
         "yaxis": "y"
        },
        {
         "hovertemplate": "label=-4 F0074_PEB_L.csv 288.6<br>theta_list=%{x}<br>intensity_list=%{y}<extra></extra>",
         "legendgroup": "-4 F0074_PEB_L.csv 288.6",
         "marker": {
          "color": "#00cc96",
          "symbol": "circle"
         },
         "mode": "markers",
         "name": "-4 F0074_PEB_L.csv 288.6",
         "orientation": "v",
         "showlegend": true,
         "type": "scatter",
         "x": [
          -95,
          -90,
          -90,
          -85,
          -80,
          -75
         ],
         "xaxis": "x",
         "y": [
          48.28069221221626,
          51.69490002372424,
          53.76084710658338,
          52.43991206830651,
          38.90554575782439,
          27.273881821025675
         ],
         "yaxis": "y"
        },
        {
         "hovertemplate": "label=-3 F0074_PEB_L.csv 280.0<br>theta_list=%{x}<br>intensity_list=%{y}<extra></extra>",
         "legendgroup": "-3 F0074_PEB_L.csv 280.0",
         "marker": {
          "color": "#ab63fa",
          "symbol": "circle"
         },
         "mode": "markers",
         "name": "-3 F0074_PEB_L.csv 280.0",
         "orientation": "v",
         "showlegend": true,
         "type": "scatter",
         "x": [
          -95,
          -90,
          -90,
          -85,
          -80,
          -75
         ],
         "xaxis": "x",
         "y": [
          47.09345595222418,
          45.72429900772126,
          50.8760938736162,
          39.6277971752624,
          31.36137063347489,
          28.56891393661623
         ],
         "yaxis": "y"
        },
        {
         "hovertemplate": "label=-3 F0074_PEB_L.csv 285.2<br>theta_list=%{x}<br>intensity_list=%{y}<extra></extra>",
         "legendgroup": "-3 F0074_PEB_L.csv 285.2",
         "marker": {
          "color": "#FFA15A",
          "symbol": "circle"
         },
         "mode": "markers",
         "name": "-3 F0074_PEB_L.csv 285.2",
         "orientation": "v",
         "showlegend": true,
         "type": "scatter",
         "x": [
          -95,
          -90,
          -90,
          -85,
          -80,
          -75,
          -70
         ],
         "xaxis": "x",
         "y": [
          96.76379154432706,
          123.07109559139349,
          146.94214788470111,
          143.77907440768186,
          151.30137933802092,
          120.24386241650711,
          71.49052093537898
         ],
         "yaxis": "y"
        },
        {
         "hovertemplate": "label=-3 F0074_PEB_L.csv 288.6<br>theta_list=%{x}<br>intensity_list=%{y}<extra></extra>",
         "legendgroup": "-3 F0074_PEB_L.csv 288.6",
         "marker": {
          "color": "#19d3f3",
          "symbol": "circle"
         },
         "mode": "markers",
         "name": "-3 F0074_PEB_L.csv 288.6",
         "orientation": "v",
         "showlegend": true,
         "type": "scatter",
         "x": [
          -90,
          -90,
          -85,
          -80,
          -75,
          -70
         ],
         "xaxis": "x",
         "y": [
          25.124776740754804,
          26.50808866046745,
          37.59548718877871,
          47.43603843981799,
          56.43098303245488,
          48.756634281938446
         ],
         "yaxis": "y"
        },
        {
         "hovertemplate": "label=-2 F0074_PEB_L.csv 280.0<br>theta_list=%{x}<br>intensity_list=%{y}<extra></extra>",
         "legendgroup": "-2 F0074_PEB_L.csv 280.0",
         "marker": {
          "color": "#FF6692",
          "symbol": "circle"
         },
         "mode": "markers",
         "name": "-2 F0074_PEB_L.csv 280.0",
         "orientation": "v",
         "showlegend": true,
         "type": "scatter",
         "x": [
          -95,
          -90,
          -90,
          -85,
          -80,
          -75,
          -70
         ],
         "xaxis": "x",
         "y": [
          78.85432977445797,
          66.78692368498614,
          66.76593134777599,
          72.62612372616235,
          71.68941221516417,
          148.8652984337885,
          338.69770049693784
         ],
         "yaxis": "y"
        },
        {
         "hovertemplate": "label=-2 F0074_PEB_L.csv 285.2<br>theta_list=%{x}<br>intensity_list=%{y}<extra></extra>",
         "legendgroup": "-2 F0074_PEB_L.csv 285.2",
         "marker": {
          "color": "#B6E880",
          "symbol": "circle"
         },
         "mode": "markers",
         "name": "-2 F0074_PEB_L.csv 285.2",
         "orientation": "v",
         "showlegend": true,
         "type": "scatter",
         "x": [
          -95,
          -90,
          -90,
          -85,
          -80,
          -75,
          -70
         ],
         "xaxis": "x",
         "y": [
          160.14765229466906,
          213.7370188977636,
          233.81708741522132,
          305.2966049201083,
          404.391469526951,
          481.5863834602667,
          450.8962843917994
         ],
         "yaxis": "y"
        },
        {
         "hovertemplate": "label=-2 F0074_PEB_L.csv 288.6<br>theta_list=%{x}<br>intensity_list=%{y}<extra></extra>",
         "legendgroup": "-2 F0074_PEB_L.csv 288.6",
         "marker": {
          "color": "#FF97FF",
          "symbol": "circle"
         },
         "mode": "markers",
         "name": "-2 F0074_PEB_L.csv 288.6",
         "orientation": "v",
         "showlegend": true,
         "type": "scatter",
         "x": [
          -95,
          -90,
          -90,
          -85,
          -80,
          -75,
          -70
         ],
         "xaxis": "x",
         "y": [
          139.4454043560409,
          128.3479616299453,
          140.80536012133825,
          156.63101361293556,
          195.6007395081446,
          265.7275563592532,
          298.44321824891847
         ],
         "yaxis": "y"
        },
        {
         "hovertemplate": "label=-4 F0072_PEB_L.csv 280.0<br>theta_list=%{x}<br>intensity_list=%{y}<extra></extra>",
         "legendgroup": "-4 F0072_PEB_L.csv 280.0",
         "marker": {
          "color": "#FECB52",
          "symbol": "circle"
         },
         "mode": "markers",
         "name": "-4 F0072_PEB_L.csv 280.0",
         "orientation": "v",
         "showlegend": true,
         "type": "scatter",
         "x": [
          -95,
          -90,
          -90,
          -85,
          -80
         ],
         "xaxis": "x",
         "y": [
          34.98253184576334,
          42.623364149205386,
          34.083733371070565,
          39.04147367211117,
          33.236638937188786
         ],
         "yaxis": "y"
        },
        {
         "hovertemplate": "label=-4 F0072_PEB_L.csv 285.2<br>theta_list=%{x}<br>intensity_list=%{y}<extra></extra>",
         "legendgroup": "-4 F0072_PEB_L.csv 285.2",
         "marker": {
          "color": "#636efa",
          "symbol": "circle"
         },
         "mode": "markers",
         "name": "-4 F0072_PEB_L.csv 285.2",
         "orientation": "v",
         "showlegend": true,
         "type": "scatter",
         "x": [
          -95,
          -90,
          -90,
          -85,
          -80,
          -75,
          -70
         ],
         "xaxis": "x",
         "y": [
          241.46352664825497,
          287.1621018424015,
          241.03786844869936,
          264.8915754000563,
          189.8872232103653,
          92.043353719185,
          12.428170740548865
         ],
         "yaxis": "y"
        },
        {
         "hovertemplate": "label=-4 F0072_PEB_L.csv 288.6<br>theta_list=%{x}<br>intensity_list=%{y}<extra></extra>",
         "legendgroup": "-4 F0072_PEB_L.csv 288.6",
         "marker": {
          "color": "#EF553B",
          "symbol": "circle"
         },
         "mode": "markers",
         "name": "-4 F0072_PEB_L.csv 288.6",
         "orientation": "v",
         "showlegend": true,
         "type": "scatter",
         "x": [
          -95,
          -90,
          -90,
          -85,
          -80,
          -75,
          -70
         ],
         "xaxis": "x",
         "y": [
          119.19266843753252,
          125.55680782187866,
          109.534564644366,
          117.4188860332041,
          102.24297671272365,
          59.71513819215323,
          26.019931798981304
         ],
         "yaxis": "y"
        },
        {
         "hovertemplate": "label=-3 F0072_PEB_L.csv 280.0<br>theta_list=%{x}<br>intensity_list=%{y}<extra></extra>",
         "legendgroup": "-3 F0072_PEB_L.csv 280.0",
         "marker": {
          "color": "#00cc96",
          "symbol": "circle"
         },
         "mode": "markers",
         "name": "-3 F0072_PEB_L.csv 280.0",
         "orientation": "v",
         "showlegend": true,
         "type": "scatter",
         "x": [
          -95,
          -90,
          -90,
          -85,
          -80,
          -75,
          -70
         ],
         "xaxis": "x",
         "y": [
          85.06111523034092,
          99.33671185459588,
          87.93467140148408,
          110.59934483203476,
          95.87862095534116,
          64.13387381801017,
          43.66837021814884
         ],
         "yaxis": "y"
        },
        {
         "hovertemplate": "label=-3 F0072_PEB_L.csv 285.2<br>theta_list=%{x}<br>intensity_list=%{y}<extra></extra>",
         "legendgroup": "-3 F0072_PEB_L.csv 285.2",
         "marker": {
          "color": "#ab63fa",
          "symbol": "circle"
         },
         "mode": "markers",
         "name": "-3 F0072_PEB_L.csv 285.2",
         "orientation": "v",
         "showlegend": true,
         "type": "scatter",
         "x": [
          -95,
          -90,
          -90,
          -85,
          -80,
          -75,
          -70
         ],
         "xaxis": "x",
         "y": [
          158.61993759073866,
          210.14752009122944,
          274.2557082987331,
          284.4370614056619,
          267.656346907194,
          168.33422089210163,
          87.51561070404578
         ],
         "yaxis": "y"
        },
        {
         "hovertemplate": "label=-3 F0072_PEB_L.csv 288.6<br>theta_list=%{x}<br>intensity_list=%{y}<extra></extra>",
         "legendgroup": "-3 F0072_PEB_L.csv 288.6",
         "marker": {
          "color": "#FFA15A",
          "symbol": "circle"
         },
         "mode": "markers",
         "name": "-3 F0072_PEB_L.csv 288.6",
         "orientation": "v",
         "showlegend": true,
         "type": "scatter",
         "x": [
          -95,
          -90,
          -90,
          -85,
          -80,
          -75,
          -70
         ],
         "xaxis": "x",
         "y": [
          129.89465277542706,
          152.5224738530551,
          168.9600996637153,
          213.07922876610417,
          213.48726958929615,
          144.8684801940111,
          88.77126020163735
         ],
         "yaxis": "y"
        },
        {
         "hovertemplate": "label=-2 F0072_PEB_L.csv 280.0<br>theta_list=%{x}<br>intensity_list=%{y}<extra></extra>",
         "legendgroup": "-2 F0072_PEB_L.csv 280.0",
         "marker": {
          "color": "#19d3f3",
          "symbol": "circle"
         },
         "mode": "markers",
         "name": "-2 F0072_PEB_L.csv 280.0",
         "orientation": "v",
         "showlegend": true,
         "type": "scatter",
         "x": [
          -95,
          -90,
          -90,
          -85,
          -80,
          -75,
          -70
         ],
         "xaxis": "x",
         "y": [
          193.54885827201963,
          203.30476375985933,
          179.16358552546433,
          224.568507540822,
          213.29935060440988,
          181.3102959213357,
          228.9939731813359
         ],
         "yaxis": "y"
        },
        {
         "hovertemplate": "label=-2 F0072_PEB_L.csv 285.2<br>theta_list=%{x}<br>intensity_list=%{y}<extra></extra>",
         "legendgroup": "-2 F0072_PEB_L.csv 285.2",
         "marker": {
          "color": "#FF6692",
          "symbol": "circle"
         },
         "mode": "markers",
         "name": "-2 F0072_PEB_L.csv 285.2",
         "orientation": "v",
         "showlegend": true,
         "type": "scatter",
         "x": [
          -95,
          -90,
          -90,
          -85,
          -80,
          -75,
          -70
         ],
         "xaxis": "x",
         "y": [
          107.31505786879144,
          136.0520090534523,
          99.79256421283948,
          171.51966192879263,
          185.36078251288623,
          181.7121335563066,
          136.1229039610128
         ],
         "yaxis": "y"
        },
        {
         "hovertemplate": "label=-2 F0072_PEB_L.csv 288.6<br>theta_list=%{x}<br>intensity_list=%{y}<extra></extra>",
         "legendgroup": "-2 F0072_PEB_L.csv 288.6",
         "marker": {
          "color": "#B6E880",
          "symbol": "circle"
         },
         "mode": "markers",
         "name": "-2 F0072_PEB_L.csv 288.6",
         "orientation": "v",
         "showlegend": true,
         "type": "scatter",
         "x": [
          -95,
          -90,
          -90,
          -85,
          -80,
          -75,
          -70
         ],
         "xaxis": "x",
         "y": [
          274.9363240030966,
          182.4258241578352,
          150.1249504965437,
          126.49557609489432,
          92.18361382228916,
          85.48306064945496,
          98.05550463770594
         ],
         "yaxis": "y"
        },
        {
         "hovertemplate": "label=-4 F0072_dvlp.csv 280.0<br>theta_list=%{x}<br>intensity_list=%{y}<extra></extra>",
         "legendgroup": "-4 F0072_dvlp.csv 280.0",
         "marker": {
          "color": "#FF97FF",
          "symbol": "circle"
         },
         "mode": "markers",
         "name": "-4 F0072_dvlp.csv 280.0",
         "orientation": "v",
         "showlegend": true,
         "type": "scatter",
         "x": [
          -110,
          -105,
          -100,
          -95,
          -90,
          -90,
          -85,
          -80,
          -75,
          -65
         ],
         "xaxis": "x",
         "y": [
          958.8221506884804,
          1865.684472637575,
          3037.231827364712,
          3172.3998119663474,
          3053.74692652285,
          3071.3079439222533,
          2510.796243650252,
          1918.077870212338,
          1189.47305868312,
          39174.49381698834
         ],
         "yaxis": "y"
        },
        {
         "hovertemplate": "label=-4 F0072_dvlp.csv 285.2<br>theta_list=%{x}<br>intensity_list=%{y}<extra></extra>",
         "legendgroup": "-4 F0072_dvlp.csv 285.2",
         "marker": {
          "color": "#FECB52",
          "symbol": "circle"
         },
         "mode": "markers",
         "name": "-4 F0072_dvlp.csv 285.2",
         "orientation": "v",
         "showlegend": true,
         "type": "scatter",
         "x": [
          -115,
          -110,
          -105,
          -100,
          -95,
          -90,
          -90,
          -85,
          -80,
          -75,
          -70
         ],
         "xaxis": "x",
         "y": [
          357.57713036474945,
          937.5918929998538,
          1720.8080249263826,
          2258.2329372875656,
          2558.2193926212985,
          2471.6670129020586,
          2355.6037498715004,
          2153.295801922479,
          1522.01367495284,
          1056.2746074583788,
          390.4444800995636
         ],
         "yaxis": "y"
        },
        {
         "hovertemplate": "label=-4 F0072_dvlp.csv 288.6<br>theta_list=%{x}<br>intensity_list=%{y}<extra></extra>",
         "legendgroup": "-4 F0072_dvlp.csv 288.6",
         "marker": {
          "color": "#636efa",
          "symbol": "circle"
         },
         "mode": "markers",
         "name": "-4 F0072_dvlp.csv 288.6",
         "orientation": "v",
         "showlegend": true,
         "type": "scatter",
         "x": [
          -115,
          -110,
          -105,
          -100,
          -95,
          -90,
          -90,
          -85,
          -85,
          -80,
          -80,
          -75,
          -70
         ],
         "xaxis": "x",
         "y": [
          623.4452837538421,
          2894.659197029551,
          5627.8846882929065,
          8022.63815964182,
          9229.409438449422,
          8713.92314245599,
          11302.462483696136,
          7653.420138486055,
          10333.803762834284,
          6062.684077218039,
          7636.334208695549,
          5438.187942006041,
          2377.883841795441
         ],
         "yaxis": "y"
        },
        {
         "hovertemplate": "label=-3 F0072_dvlp.csv 280.0<br>theta_list=%{x}<br>intensity_list=%{y}<extra></extra>",
         "legendgroup": "-3 F0072_dvlp.csv 280.0",
         "marker": {
          "color": "#EF553B",
          "symbol": "circle"
         },
         "mode": "markers",
         "name": "-3 F0072_dvlp.csv 280.0",
         "orientation": "v",
         "showlegend": true,
         "type": "scatter",
         "x": [
          -115,
          -110,
          -105,
          -100,
          -95,
          -90,
          -90,
          -85,
          -80,
          -75,
          -70
         ],
         "xaxis": "x",
         "y": [
          457.4765584820674,
          1132.7279061803483,
          1209.1433701082544,
          1624.9553338348687,
          1179.3974604725026,
          1247.8203086486133,
          1269.566301623629,
          1630.372742490713,
          2171.8672985517887,
          2604.419903679777,
          3298.606651980712
         ],
         "yaxis": "y"
        },
        {
         "hovertemplate": "label=-3 F0072_dvlp.csv 285.2<br>theta_list=%{x}<br>intensity_list=%{y}<extra></extra>",
         "legendgroup": "-3 F0072_dvlp.csv 285.2",
         "marker": {
          "color": "#00cc96",
          "symbol": "circle"
         },
         "mode": "markers",
         "name": "-3 F0072_dvlp.csv 285.2",
         "orientation": "v",
         "showlegend": true,
         "type": "scatter",
         "x": [
          -115,
          -110,
          -105,
          -100,
          -95,
          -90,
          -90,
          -85,
          -80,
          -75,
          -70,
          -65
         ],
         "xaxis": "x",
         "y": [
          567.4030268019449,
          2004.283648085453,
          2159.376955135581,
          1894.0188591473168,
          1667.4293291081126,
          1659.291034489675,
          1931.9600138028727,
          1848.5058924205125,
          2058.1119939621785,
          2262.6714587661863,
          2457.727001764928,
          3841.257479239643
         ],
         "yaxis": "y"
        },
        {
         "hovertemplate": "label=-3 F0072_dvlp.csv 288.6<br>theta_list=%{x}<br>intensity_list=%{y}<extra></extra>",
         "legendgroup": "-3 F0072_dvlp.csv 288.6",
         "marker": {
          "color": "#ab63fa",
          "symbol": "circle"
         },
         "mode": "markers",
         "name": "-3 F0072_dvlp.csv 288.6",
         "orientation": "v",
         "showlegend": true,
         "type": "scatter",
         "x": [
          -115,
          -110,
          -105,
          -100,
          -95,
          -90,
          -90,
          -85,
          -85,
          -80,
          -80,
          -75,
          -70,
          -65
         ],
         "xaxis": "x",
         "y": [
          1428.057300411209,
          4133.033970131654,
          4338.433596484372,
          4180.07192330606,
          3419.265061330092,
          3228.0597831217133,
          5100.942145314903,
          4699.396815639835,
          5605.902449981438,
          6307.263524698772,
          7521.270235191338,
          9721.778736832,
          11183.25727063802,
          10789.379169962504
         ],
         "yaxis": "y"
        },
        {
         "hovertemplate": "label=-2 F0072_dvlp.csv 280.0<br>theta_list=%{x}<br>intensity_list=%{y}<extra></extra>",
         "legendgroup": "-2 F0072_dvlp.csv 280.0",
         "marker": {
          "color": "#FFA15A",
          "symbol": "circle"
         },
         "mode": "markers",
         "name": "-2 F0072_dvlp.csv 280.0",
         "orientation": "v",
         "showlegend": true,
         "type": "scatter",
         "x": [
          -115,
          -110,
          -105,
          -100,
          -95,
          -90,
          -90,
          -85,
          -80,
          -75,
          -70,
          -65
         ],
         "xaxis": "x",
         "y": [
          1051.9143642206027,
          4754.404724457625,
          8160.46051617095,
          12306.40774047803,
          14645.962999751286,
          14981.725647401916,
          14506.672731098091,
          14714.456079281716,
          14081.93293112575,
          12403.922837977349,
          10478.232898177905,
          9090.8787928775
         ],
         "yaxis": "y"
        },
        {
         "hovertemplate": "label=-2 F0072_dvlp.csv 285.2<br>theta_list=%{x}<br>intensity_list=%{y}<extra></extra>",
         "legendgroup": "-2 F0072_dvlp.csv 285.2",
         "marker": {
          "color": "#19d3f3",
          "symbol": "circle"
         },
         "mode": "markers",
         "name": "-2 F0072_dvlp.csv 285.2",
         "orientation": "v",
         "showlegend": true,
         "type": "scatter",
         "x": [
          -115,
          -110,
          -105,
          -100,
          -95,
          -90,
          -90,
          -85,
          -80,
          -75,
          -70,
          -65
         ],
         "xaxis": "x",
         "y": [
          1224.7049756864128,
          4424.016221110175,
          6816.635502345815,
          9948.932676933417,
          10236.093325263451,
          11449.821188621368,
          10933.845342671537,
          10984.872307250736,
          10533.604597550378,
          9135.263282275677,
          7672.666517539781,
          6848.975611193737
         ],
         "yaxis": "y"
        },
        {
         "hovertemplate": "label=-2 F0072_dvlp.csv 288.6<br>theta_list=%{x}<br>intensity_list=%{y}<extra></extra>",
         "legendgroup": "-2 F0072_dvlp.csv 288.6",
         "marker": {
          "color": "#FF6692",
          "symbol": "circle"
         },
         "mode": "markers",
         "name": "-2 F0072_dvlp.csv 288.6",
         "orientation": "v",
         "showlegend": true,
         "type": "scatter",
         "x": [
          -115,
          -110,
          -105,
          -100,
          -95,
          -90,
          -90,
          -85,
          -85,
          -80,
          -80,
          -75,
          -70,
          -65
         ],
         "xaxis": "x",
         "y": [
          4362.723211438226,
          17009.810810904863,
          29317.67464987229,
          39595.60846647859,
          45171.21478012524,
          46791.65458719994,
          57312.31848482297,
          45078.54570968924,
          57071.208823868095,
          43944.57632829241,
          54877.83777749918,
          48515.35801217385,
          39537.12868811216,
          25784.101674059024
         ],
         "yaxis": "y"
        }
       ],
       "layout": {
        "legend": {
         "title": {
          "text": "label"
         },
         "tracegroupgap": 0
        },
        "margin": {
         "t": 60
        },
        "template": {
         "data": {
          "bar": [
           {
            "error_x": {
             "color": "#2a3f5f"
            },
            "error_y": {
             "color": "#2a3f5f"
            },
            "marker": {
             "line": {
              "color": "#E5ECF6",
              "width": 0.5
             },
             "pattern": {
              "fillmode": "overlay",
              "size": 10,
              "solidity": 0.2
             }
            },
            "type": "bar"
           }
          ],
          "barpolar": [
           {
            "marker": {
             "line": {
              "color": "#E5ECF6",
              "width": 0.5
             },
             "pattern": {
              "fillmode": "overlay",
              "size": 10,
              "solidity": 0.2
             }
            },
            "type": "barpolar"
           }
          ],
          "carpet": [
           {
            "aaxis": {
             "endlinecolor": "#2a3f5f",
             "gridcolor": "white",
             "linecolor": "white",
             "minorgridcolor": "white",
             "startlinecolor": "#2a3f5f"
            },
            "baxis": {
             "endlinecolor": "#2a3f5f",
             "gridcolor": "white",
             "linecolor": "white",
             "minorgridcolor": "white",
             "startlinecolor": "#2a3f5f"
            },
            "type": "carpet"
           }
          ],
          "choropleth": [
           {
            "colorbar": {
             "outlinewidth": 0,
             "ticks": ""
            },
            "type": "choropleth"
           }
          ],
          "contour": [
           {
            "colorbar": {
             "outlinewidth": 0,
             "ticks": ""
            },
            "colorscale": [
             [
              0,
              "#0d0887"
             ],
             [
              0.1111111111111111,
              "#46039f"
             ],
             [
              0.2222222222222222,
              "#7201a8"
             ],
             [
              0.3333333333333333,
              "#9c179e"
             ],
             [
              0.4444444444444444,
              "#bd3786"
             ],
             [
              0.5555555555555556,
              "#d8576b"
             ],
             [
              0.6666666666666666,
              "#ed7953"
             ],
             [
              0.7777777777777778,
              "#fb9f3a"
             ],
             [
              0.8888888888888888,
              "#fdca26"
             ],
             [
              1,
              "#f0f921"
             ]
            ],
            "type": "contour"
           }
          ],
          "contourcarpet": [
           {
            "colorbar": {
             "outlinewidth": 0,
             "ticks": ""
            },
            "type": "contourcarpet"
           }
          ],
          "heatmap": [
           {
            "colorbar": {
             "outlinewidth": 0,
             "ticks": ""
            },
            "colorscale": [
             [
              0,
              "#0d0887"
             ],
             [
              0.1111111111111111,
              "#46039f"
             ],
             [
              0.2222222222222222,
              "#7201a8"
             ],
             [
              0.3333333333333333,
              "#9c179e"
             ],
             [
              0.4444444444444444,
              "#bd3786"
             ],
             [
              0.5555555555555556,
              "#d8576b"
             ],
             [
              0.6666666666666666,
              "#ed7953"
             ],
             [
              0.7777777777777778,
              "#fb9f3a"
             ],
             [
              0.8888888888888888,
              "#fdca26"
             ],
             [
              1,
              "#f0f921"
             ]
            ],
            "type": "heatmap"
           }
          ],
          "heatmapgl": [
           {
            "colorbar": {
             "outlinewidth": 0,
             "ticks": ""
            },
            "colorscale": [
             [
              0,
              "#0d0887"
             ],
             [
              0.1111111111111111,
              "#46039f"
             ],
             [
              0.2222222222222222,
              "#7201a8"
             ],
             [
              0.3333333333333333,
              "#9c179e"
             ],
             [
              0.4444444444444444,
              "#bd3786"
             ],
             [
              0.5555555555555556,
              "#d8576b"
             ],
             [
              0.6666666666666666,
              "#ed7953"
             ],
             [
              0.7777777777777778,
              "#fb9f3a"
             ],
             [
              0.8888888888888888,
              "#fdca26"
             ],
             [
              1,
              "#f0f921"
             ]
            ],
            "type": "heatmapgl"
           }
          ],
          "histogram": [
           {
            "marker": {
             "pattern": {
              "fillmode": "overlay",
              "size": 10,
              "solidity": 0.2
             }
            },
            "type": "histogram"
           }
          ],
          "histogram2d": [
           {
            "colorbar": {
             "outlinewidth": 0,
             "ticks": ""
            },
            "colorscale": [
             [
              0,
              "#0d0887"
             ],
             [
              0.1111111111111111,
              "#46039f"
             ],
             [
              0.2222222222222222,
              "#7201a8"
             ],
             [
              0.3333333333333333,
              "#9c179e"
             ],
             [
              0.4444444444444444,
              "#bd3786"
             ],
             [
              0.5555555555555556,
              "#d8576b"
             ],
             [
              0.6666666666666666,
              "#ed7953"
             ],
             [
              0.7777777777777778,
              "#fb9f3a"
             ],
             [
              0.8888888888888888,
              "#fdca26"
             ],
             [
              1,
              "#f0f921"
             ]
            ],
            "type": "histogram2d"
           }
          ],
          "histogram2dcontour": [
           {
            "colorbar": {
             "outlinewidth": 0,
             "ticks": ""
            },
            "colorscale": [
             [
              0,
              "#0d0887"
             ],
             [
              0.1111111111111111,
              "#46039f"
             ],
             [
              0.2222222222222222,
              "#7201a8"
             ],
             [
              0.3333333333333333,
              "#9c179e"
             ],
             [
              0.4444444444444444,
              "#bd3786"
             ],
             [
              0.5555555555555556,
              "#d8576b"
             ],
             [
              0.6666666666666666,
              "#ed7953"
             ],
             [
              0.7777777777777778,
              "#fb9f3a"
             ],
             [
              0.8888888888888888,
              "#fdca26"
             ],
             [
              1,
              "#f0f921"
             ]
            ],
            "type": "histogram2dcontour"
           }
          ],
          "mesh3d": [
           {
            "colorbar": {
             "outlinewidth": 0,
             "ticks": ""
            },
            "type": "mesh3d"
           }
          ],
          "parcoords": [
           {
            "line": {
             "colorbar": {
              "outlinewidth": 0,
              "ticks": ""
             }
            },
            "type": "parcoords"
           }
          ],
          "pie": [
           {
            "automargin": true,
            "type": "pie"
           }
          ],
          "scatter": [
           {
            "fillpattern": {
             "fillmode": "overlay",
             "size": 10,
             "solidity": 0.2
            },
            "type": "scatter"
           }
          ],
          "scatter3d": [
           {
            "line": {
             "colorbar": {
              "outlinewidth": 0,
              "ticks": ""
             }
            },
            "marker": {
             "colorbar": {
              "outlinewidth": 0,
              "ticks": ""
             }
            },
            "type": "scatter3d"
           }
          ],
          "scattercarpet": [
           {
            "marker": {
             "colorbar": {
              "outlinewidth": 0,
              "ticks": ""
             }
            },
            "type": "scattercarpet"
           }
          ],
          "scattergeo": [
           {
            "marker": {
             "colorbar": {
              "outlinewidth": 0,
              "ticks": ""
             }
            },
            "type": "scattergeo"
           }
          ],
          "scattergl": [
           {
            "marker": {
             "colorbar": {
              "outlinewidth": 0,
              "ticks": ""
             }
            },
            "type": "scattergl"
           }
          ],
          "scattermapbox": [
           {
            "marker": {
             "colorbar": {
              "outlinewidth": 0,
              "ticks": ""
             }
            },
            "type": "scattermapbox"
           }
          ],
          "scatterpolar": [
           {
            "marker": {
             "colorbar": {
              "outlinewidth": 0,
              "ticks": ""
             }
            },
            "type": "scatterpolar"
           }
          ],
          "scatterpolargl": [
           {
            "marker": {
             "colorbar": {
              "outlinewidth": 0,
              "ticks": ""
             }
            },
            "type": "scatterpolargl"
           }
          ],
          "scatterternary": [
           {
            "marker": {
             "colorbar": {
              "outlinewidth": 0,
              "ticks": ""
             }
            },
            "type": "scatterternary"
           }
          ],
          "surface": [
           {
            "colorbar": {
             "outlinewidth": 0,
             "ticks": ""
            },
            "colorscale": [
             [
              0,
              "#0d0887"
             ],
             [
              0.1111111111111111,
              "#46039f"
             ],
             [
              0.2222222222222222,
              "#7201a8"
             ],
             [
              0.3333333333333333,
              "#9c179e"
             ],
             [
              0.4444444444444444,
              "#bd3786"
             ],
             [
              0.5555555555555556,
              "#d8576b"
             ],
             [
              0.6666666666666666,
              "#ed7953"
             ],
             [
              0.7777777777777778,
              "#fb9f3a"
             ],
             [
              0.8888888888888888,
              "#fdca26"
             ],
             [
              1,
              "#f0f921"
             ]
            ],
            "type": "surface"
           }
          ],
          "table": [
           {
            "cells": {
             "fill": {
              "color": "#EBF0F8"
             },
             "line": {
              "color": "white"
             }
            },
            "header": {
             "fill": {
              "color": "#C8D4E3"
             },
             "line": {
              "color": "white"
             }
            },
            "type": "table"
           }
          ]
         },
         "layout": {
          "annotationdefaults": {
           "arrowcolor": "#2a3f5f",
           "arrowhead": 0,
           "arrowwidth": 1
          },
          "autotypenumbers": "strict",
          "coloraxis": {
           "colorbar": {
            "outlinewidth": 0,
            "ticks": ""
           }
          },
          "colorscale": {
           "diverging": [
            [
             0,
             "#8e0152"
            ],
            [
             0.1,
             "#c51b7d"
            ],
            [
             0.2,
             "#de77ae"
            ],
            [
             0.3,
             "#f1b6da"
            ],
            [
             0.4,
             "#fde0ef"
            ],
            [
             0.5,
             "#f7f7f7"
            ],
            [
             0.6,
             "#e6f5d0"
            ],
            [
             0.7,
             "#b8e186"
            ],
            [
             0.8,
             "#7fbc41"
            ],
            [
             0.9,
             "#4d9221"
            ],
            [
             1,
             "#276419"
            ]
           ],
           "sequential": [
            [
             0,
             "#0d0887"
            ],
            [
             0.1111111111111111,
             "#46039f"
            ],
            [
             0.2222222222222222,
             "#7201a8"
            ],
            [
             0.3333333333333333,
             "#9c179e"
            ],
            [
             0.4444444444444444,
             "#bd3786"
            ],
            [
             0.5555555555555556,
             "#d8576b"
            ],
            [
             0.6666666666666666,
             "#ed7953"
            ],
            [
             0.7777777777777778,
             "#fb9f3a"
            ],
            [
             0.8888888888888888,
             "#fdca26"
            ],
            [
             1,
             "#f0f921"
            ]
           ],
           "sequentialminus": [
            [
             0,
             "#0d0887"
            ],
            [
             0.1111111111111111,
             "#46039f"
            ],
            [
             0.2222222222222222,
             "#7201a8"
            ],
            [
             0.3333333333333333,
             "#9c179e"
            ],
            [
             0.4444444444444444,
             "#bd3786"
            ],
            [
             0.5555555555555556,
             "#d8576b"
            ],
            [
             0.6666666666666666,
             "#ed7953"
            ],
            [
             0.7777777777777778,
             "#fb9f3a"
            ],
            [
             0.8888888888888888,
             "#fdca26"
            ],
            [
             1,
             "#f0f921"
            ]
           ]
          },
          "colorway": [
           "#636efa",
           "#EF553B",
           "#00cc96",
           "#ab63fa",
           "#FFA15A",
           "#19d3f3",
           "#FF6692",
           "#B6E880",
           "#FF97FF",
           "#FECB52"
          ],
          "font": {
           "color": "#2a3f5f"
          },
          "geo": {
           "bgcolor": "white",
           "lakecolor": "white",
           "landcolor": "#E5ECF6",
           "showlakes": true,
           "showland": true,
           "subunitcolor": "white"
          },
          "hoverlabel": {
           "align": "left"
          },
          "hovermode": "closest",
          "mapbox": {
           "style": "light"
          },
          "paper_bgcolor": "white",
          "plot_bgcolor": "#E5ECF6",
          "polar": {
           "angularaxis": {
            "gridcolor": "white",
            "linecolor": "white",
            "ticks": ""
           },
           "bgcolor": "#E5ECF6",
           "radialaxis": {
            "gridcolor": "white",
            "linecolor": "white",
            "ticks": ""
           }
          },
          "scene": {
           "xaxis": {
            "backgroundcolor": "#E5ECF6",
            "gridcolor": "white",
            "gridwidth": 2,
            "linecolor": "white",
            "showbackground": true,
            "ticks": "",
            "zerolinecolor": "white"
           },
           "yaxis": {
            "backgroundcolor": "#E5ECF6",
            "gridcolor": "white",
            "gridwidth": 2,
            "linecolor": "white",
            "showbackground": true,
            "ticks": "",
            "zerolinecolor": "white"
           },
           "zaxis": {
            "backgroundcolor": "#E5ECF6",
            "gridcolor": "white",
            "gridwidth": 2,
            "linecolor": "white",
            "showbackground": true,
            "ticks": "",
            "zerolinecolor": "white"
           }
          },
          "shapedefaults": {
           "line": {
            "color": "#2a3f5f"
           }
          },
          "ternary": {
           "aaxis": {
            "gridcolor": "white",
            "linecolor": "white",
            "ticks": ""
           },
           "baxis": {
            "gridcolor": "white",
            "linecolor": "white",
            "ticks": ""
           },
           "bgcolor": "#E5ECF6",
           "caxis": {
            "gridcolor": "white",
            "linecolor": "white",
            "ticks": ""
           }
          },
          "title": {
           "x": 0.05
          },
          "xaxis": {
           "automargin": true,
           "gridcolor": "white",
           "linecolor": "white",
           "ticks": "",
           "title": {
            "standoff": 15
           },
           "zerolinecolor": "white",
           "zerolinewidth": 2
          },
          "yaxis": {
           "automargin": true,
           "gridcolor": "white",
           "linecolor": "white",
           "ticks": "",
           "title": {
            "standoff": 15
           },
           "zerolinecolor": "white",
           "zerolinewidth": 2
          }
         }
        },
        "xaxis": {
         "anchor": "y",
         "domain": [
          0,
          1
         ],
         "range": [
          -115.5,
          -64.5
         ],
         "title": {
          "text": "theta_list"
         }
        },
        "yaxis": {
         "anchor": "x",
         "domain": [
          0,
          1
         ],
         "title": {
          "text": "intensity_list"
         },
         "type": "linear"
        }
       }
      },
      "text/html": [
       "<div>                            <div id=\"19861b38-6b00-4a39-a2d5-81e30e5eb2e4\" class=\"plotly-graph-div\" style=\"height:525px; width:100%;\"></div>            <script type=\"text/javascript\">                require([\"plotly\"], function(Plotly) {                    window.PLOTLYENV=window.PLOTLYENV || {};                                    if (document.getElementById(\"19861b38-6b00-4a39-a2d5-81e30e5eb2e4\")) {                    Plotly.newPlot(                        \"19861b38-6b00-4a39-a2d5-81e30e5eb2e4\",                        [{\"hovertemplate\":\"label=-4 F0074_PEB_L.csv 280.0\\u003cbr\\u003etheta_list=%{x}\\u003cbr\\u003eintensity_list=%{y}\\u003cextra\\u003e\\u003c\\u002fextra\\u003e\",\"legendgroup\":\"-4 F0074_PEB_L.csv 280.0\",\"marker\":{\"color\":\"#636efa\",\"symbol\":\"circle\"},\"mode\":\"markers\",\"name\":\"-4 F0074_PEB_L.csv 280.0\",\"orientation\":\"v\",\"showlegend\":true,\"x\":[-95.0,-90.0,-90.0,-85.0,-80.0,-75.0],\"xaxis\":\"x\",\"y\":[35.738090983808945,37.36307693972462,37.01138817603162,34.932098134149406,29.202116096146455,18.580218083070083],\"yaxis\":\"y\",\"type\":\"scatter\"},{\"hovertemplate\":\"label=-4 F0074_PEB_L.csv 285.2\\u003cbr\\u003etheta_list=%{x}\\u003cbr\\u003eintensity_list=%{y}\\u003cextra\\u003e\\u003c\\u002fextra\\u003e\",\"legendgroup\":\"-4 F0074_PEB_L.csv 285.2\",\"marker\":{\"color\":\"#EF553B\",\"symbol\":\"circle\"},\"mode\":\"markers\",\"name\":\"-4 F0074_PEB_L.csv 285.2\",\"orientation\":\"v\",\"showlegend\":true,\"x\":[-95.0,-90.0,-90.0,-85.0,-80.0,-75.0,-70.0],\"xaxis\":\"x\",\"y\":[133.6143559589322,131.53344279242887,175.32938572569543,131.26319605901023,105.98955743054805,58.00127063820709,13.695903541938952],\"yaxis\":\"y\",\"type\":\"scatter\"},{\"hovertemplate\":\"label=-4 F0074_PEB_L.csv 288.6\\u003cbr\\u003etheta_list=%{x}\\u003cbr\\u003eintensity_list=%{y}\\u003cextra\\u003e\\u003c\\u002fextra\\u003e\",\"legendgroup\":\"-4 F0074_PEB_L.csv 288.6\",\"marker\":{\"color\":\"#00cc96\",\"symbol\":\"circle\"},\"mode\":\"markers\",\"name\":\"-4 F0074_PEB_L.csv 288.6\",\"orientation\":\"v\",\"showlegend\":true,\"x\":[-95.0,-90.0,-90.0,-85.0,-80.0,-75.0],\"xaxis\":\"x\",\"y\":[48.28069221221626,51.69490002372424,53.76084710658338,52.43991206830651,38.90554575782439,27.273881821025675],\"yaxis\":\"y\",\"type\":\"scatter\"},{\"hovertemplate\":\"label=-3 F0074_PEB_L.csv 280.0\\u003cbr\\u003etheta_list=%{x}\\u003cbr\\u003eintensity_list=%{y}\\u003cextra\\u003e\\u003c\\u002fextra\\u003e\",\"legendgroup\":\"-3 F0074_PEB_L.csv 280.0\",\"marker\":{\"color\":\"#ab63fa\",\"symbol\":\"circle\"},\"mode\":\"markers\",\"name\":\"-3 F0074_PEB_L.csv 280.0\",\"orientation\":\"v\",\"showlegend\":true,\"x\":[-95.0,-90.0,-90.0,-85.0,-80.0,-75.0],\"xaxis\":\"x\",\"y\":[47.09345595222418,45.72429900772126,50.8760938736162,39.6277971752624,31.36137063347489,28.56891393661623],\"yaxis\":\"y\",\"type\":\"scatter\"},{\"hovertemplate\":\"label=-3 F0074_PEB_L.csv 285.2\\u003cbr\\u003etheta_list=%{x}\\u003cbr\\u003eintensity_list=%{y}\\u003cextra\\u003e\\u003c\\u002fextra\\u003e\",\"legendgroup\":\"-3 F0074_PEB_L.csv 285.2\",\"marker\":{\"color\":\"#FFA15A\",\"symbol\":\"circle\"},\"mode\":\"markers\",\"name\":\"-3 F0074_PEB_L.csv 285.2\",\"orientation\":\"v\",\"showlegend\":true,\"x\":[-95.0,-90.0,-90.0,-85.0,-80.0,-75.0,-70.0],\"xaxis\":\"x\",\"y\":[96.76379154432706,123.07109559139349,146.94214788470111,143.77907440768186,151.30137933802092,120.24386241650711,71.49052093537898],\"yaxis\":\"y\",\"type\":\"scatter\"},{\"hovertemplate\":\"label=-3 F0074_PEB_L.csv 288.6\\u003cbr\\u003etheta_list=%{x}\\u003cbr\\u003eintensity_list=%{y}\\u003cextra\\u003e\\u003c\\u002fextra\\u003e\",\"legendgroup\":\"-3 F0074_PEB_L.csv 288.6\",\"marker\":{\"color\":\"#19d3f3\",\"symbol\":\"circle\"},\"mode\":\"markers\",\"name\":\"-3 F0074_PEB_L.csv 288.6\",\"orientation\":\"v\",\"showlegend\":true,\"x\":[-90.0,-90.0,-85.0,-80.0,-75.0,-70.0],\"xaxis\":\"x\",\"y\":[25.124776740754804,26.50808866046745,37.59548718877871,47.43603843981799,56.43098303245488,48.756634281938446],\"yaxis\":\"y\",\"type\":\"scatter\"},{\"hovertemplate\":\"label=-2 F0074_PEB_L.csv 280.0\\u003cbr\\u003etheta_list=%{x}\\u003cbr\\u003eintensity_list=%{y}\\u003cextra\\u003e\\u003c\\u002fextra\\u003e\",\"legendgroup\":\"-2 F0074_PEB_L.csv 280.0\",\"marker\":{\"color\":\"#FF6692\",\"symbol\":\"circle\"},\"mode\":\"markers\",\"name\":\"-2 F0074_PEB_L.csv 280.0\",\"orientation\":\"v\",\"showlegend\":true,\"x\":[-95.0,-90.0,-90.0,-85.0,-80.0,-75.0,-70.0],\"xaxis\":\"x\",\"y\":[78.85432977445797,66.78692368498614,66.76593134777599,72.62612372616235,71.68941221516417,148.8652984337885,338.69770049693784],\"yaxis\":\"y\",\"type\":\"scatter\"},{\"hovertemplate\":\"label=-2 F0074_PEB_L.csv 285.2\\u003cbr\\u003etheta_list=%{x}\\u003cbr\\u003eintensity_list=%{y}\\u003cextra\\u003e\\u003c\\u002fextra\\u003e\",\"legendgroup\":\"-2 F0074_PEB_L.csv 285.2\",\"marker\":{\"color\":\"#B6E880\",\"symbol\":\"circle\"},\"mode\":\"markers\",\"name\":\"-2 F0074_PEB_L.csv 285.2\",\"orientation\":\"v\",\"showlegend\":true,\"x\":[-95.0,-90.0,-90.0,-85.0,-80.0,-75.0,-70.0],\"xaxis\":\"x\",\"y\":[160.14765229466906,213.7370188977636,233.81708741522132,305.2966049201083,404.391469526951,481.5863834602667,450.8962843917994],\"yaxis\":\"y\",\"type\":\"scatter\"},{\"hovertemplate\":\"label=-2 F0074_PEB_L.csv 288.6\\u003cbr\\u003etheta_list=%{x}\\u003cbr\\u003eintensity_list=%{y}\\u003cextra\\u003e\\u003c\\u002fextra\\u003e\",\"legendgroup\":\"-2 F0074_PEB_L.csv 288.6\",\"marker\":{\"color\":\"#FF97FF\",\"symbol\":\"circle\"},\"mode\":\"markers\",\"name\":\"-2 F0074_PEB_L.csv 288.6\",\"orientation\":\"v\",\"showlegend\":true,\"x\":[-95.0,-90.0,-90.0,-85.0,-80.0,-75.0,-70.0],\"xaxis\":\"x\",\"y\":[139.4454043560409,128.3479616299453,140.80536012133825,156.63101361293556,195.6007395081446,265.7275563592532,298.44321824891847],\"yaxis\":\"y\",\"type\":\"scatter\"},{\"hovertemplate\":\"label=-4 F0072_PEB_L.csv 280.0\\u003cbr\\u003etheta_list=%{x}\\u003cbr\\u003eintensity_list=%{y}\\u003cextra\\u003e\\u003c\\u002fextra\\u003e\",\"legendgroup\":\"-4 F0072_PEB_L.csv 280.0\",\"marker\":{\"color\":\"#FECB52\",\"symbol\":\"circle\"},\"mode\":\"markers\",\"name\":\"-4 F0072_PEB_L.csv 280.0\",\"orientation\":\"v\",\"showlegend\":true,\"x\":[-95.0,-90.0,-90.0,-85.0,-80.0],\"xaxis\":\"x\",\"y\":[34.98253184576334,42.623364149205386,34.083733371070565,39.04147367211117,33.236638937188786],\"yaxis\":\"y\",\"type\":\"scatter\"},{\"hovertemplate\":\"label=-4 F0072_PEB_L.csv 285.2\\u003cbr\\u003etheta_list=%{x}\\u003cbr\\u003eintensity_list=%{y}\\u003cextra\\u003e\\u003c\\u002fextra\\u003e\",\"legendgroup\":\"-4 F0072_PEB_L.csv 285.2\",\"marker\":{\"color\":\"#636efa\",\"symbol\":\"circle\"},\"mode\":\"markers\",\"name\":\"-4 F0072_PEB_L.csv 285.2\",\"orientation\":\"v\",\"showlegend\":true,\"x\":[-95.0,-90.0,-90.0,-85.0,-80.0,-75.0,-70.0],\"xaxis\":\"x\",\"y\":[241.46352664825497,287.1621018424015,241.03786844869936,264.8915754000563,189.8872232103653,92.043353719185,12.428170740548865],\"yaxis\":\"y\",\"type\":\"scatter\"},{\"hovertemplate\":\"label=-4 F0072_PEB_L.csv 288.6\\u003cbr\\u003etheta_list=%{x}\\u003cbr\\u003eintensity_list=%{y}\\u003cextra\\u003e\\u003c\\u002fextra\\u003e\",\"legendgroup\":\"-4 F0072_PEB_L.csv 288.6\",\"marker\":{\"color\":\"#EF553B\",\"symbol\":\"circle\"},\"mode\":\"markers\",\"name\":\"-4 F0072_PEB_L.csv 288.6\",\"orientation\":\"v\",\"showlegend\":true,\"x\":[-95.0,-90.0,-90.0,-85.0,-80.0,-75.0,-70.0],\"xaxis\":\"x\",\"y\":[119.19266843753252,125.55680782187866,109.534564644366,117.4188860332041,102.24297671272365,59.71513819215323,26.019931798981304],\"yaxis\":\"y\",\"type\":\"scatter\"},{\"hovertemplate\":\"label=-3 F0072_PEB_L.csv 280.0\\u003cbr\\u003etheta_list=%{x}\\u003cbr\\u003eintensity_list=%{y}\\u003cextra\\u003e\\u003c\\u002fextra\\u003e\",\"legendgroup\":\"-3 F0072_PEB_L.csv 280.0\",\"marker\":{\"color\":\"#00cc96\",\"symbol\":\"circle\"},\"mode\":\"markers\",\"name\":\"-3 F0072_PEB_L.csv 280.0\",\"orientation\":\"v\",\"showlegend\":true,\"x\":[-95.0,-90.0,-90.0,-85.0,-80.0,-75.0,-70.0],\"xaxis\":\"x\",\"y\":[85.06111523034092,99.33671185459588,87.93467140148408,110.59934483203476,95.87862095534116,64.13387381801017,43.66837021814884],\"yaxis\":\"y\",\"type\":\"scatter\"},{\"hovertemplate\":\"label=-3 F0072_PEB_L.csv 285.2\\u003cbr\\u003etheta_list=%{x}\\u003cbr\\u003eintensity_list=%{y}\\u003cextra\\u003e\\u003c\\u002fextra\\u003e\",\"legendgroup\":\"-3 F0072_PEB_L.csv 285.2\",\"marker\":{\"color\":\"#ab63fa\",\"symbol\":\"circle\"},\"mode\":\"markers\",\"name\":\"-3 F0072_PEB_L.csv 285.2\",\"orientation\":\"v\",\"showlegend\":true,\"x\":[-95.0,-90.0,-90.0,-85.0,-80.0,-75.0,-70.0],\"xaxis\":\"x\",\"y\":[158.61993759073866,210.14752009122944,274.2557082987331,284.4370614056619,267.656346907194,168.33422089210163,87.51561070404578],\"yaxis\":\"y\",\"type\":\"scatter\"},{\"hovertemplate\":\"label=-3 F0072_PEB_L.csv 288.6\\u003cbr\\u003etheta_list=%{x}\\u003cbr\\u003eintensity_list=%{y}\\u003cextra\\u003e\\u003c\\u002fextra\\u003e\",\"legendgroup\":\"-3 F0072_PEB_L.csv 288.6\",\"marker\":{\"color\":\"#FFA15A\",\"symbol\":\"circle\"},\"mode\":\"markers\",\"name\":\"-3 F0072_PEB_L.csv 288.6\",\"orientation\":\"v\",\"showlegend\":true,\"x\":[-95.0,-90.0,-90.0,-85.0,-80.0,-75.0,-70.0],\"xaxis\":\"x\",\"y\":[129.89465277542706,152.5224738530551,168.9600996637153,213.07922876610417,213.48726958929615,144.8684801940111,88.77126020163735],\"yaxis\":\"y\",\"type\":\"scatter\"},{\"hovertemplate\":\"label=-2 F0072_PEB_L.csv 280.0\\u003cbr\\u003etheta_list=%{x}\\u003cbr\\u003eintensity_list=%{y}\\u003cextra\\u003e\\u003c\\u002fextra\\u003e\",\"legendgroup\":\"-2 F0072_PEB_L.csv 280.0\",\"marker\":{\"color\":\"#19d3f3\",\"symbol\":\"circle\"},\"mode\":\"markers\",\"name\":\"-2 F0072_PEB_L.csv 280.0\",\"orientation\":\"v\",\"showlegend\":true,\"x\":[-95.0,-90.0,-90.0,-85.0,-80.0,-75.0,-70.0],\"xaxis\":\"x\",\"y\":[193.54885827201963,203.30476375985933,179.16358552546433,224.568507540822,213.29935060440988,181.3102959213357,228.9939731813359],\"yaxis\":\"y\",\"type\":\"scatter\"},{\"hovertemplate\":\"label=-2 F0072_PEB_L.csv 285.2\\u003cbr\\u003etheta_list=%{x}\\u003cbr\\u003eintensity_list=%{y}\\u003cextra\\u003e\\u003c\\u002fextra\\u003e\",\"legendgroup\":\"-2 F0072_PEB_L.csv 285.2\",\"marker\":{\"color\":\"#FF6692\",\"symbol\":\"circle\"},\"mode\":\"markers\",\"name\":\"-2 F0072_PEB_L.csv 285.2\",\"orientation\":\"v\",\"showlegend\":true,\"x\":[-95.0,-90.0,-90.0,-85.0,-80.0,-75.0,-70.0],\"xaxis\":\"x\",\"y\":[107.31505786879144,136.0520090534523,99.79256421283948,171.51966192879263,185.36078251288623,181.7121335563066,136.1229039610128],\"yaxis\":\"y\",\"type\":\"scatter\"},{\"hovertemplate\":\"label=-2 F0072_PEB_L.csv 288.6\\u003cbr\\u003etheta_list=%{x}\\u003cbr\\u003eintensity_list=%{y}\\u003cextra\\u003e\\u003c\\u002fextra\\u003e\",\"legendgroup\":\"-2 F0072_PEB_L.csv 288.6\",\"marker\":{\"color\":\"#B6E880\",\"symbol\":\"circle\"},\"mode\":\"markers\",\"name\":\"-2 F0072_PEB_L.csv 288.6\",\"orientation\":\"v\",\"showlegend\":true,\"x\":[-95.0,-90.0,-90.0,-85.0,-80.0,-75.0,-70.0],\"xaxis\":\"x\",\"y\":[274.9363240030966,182.4258241578352,150.1249504965437,126.49557609489432,92.18361382228916,85.48306064945496,98.05550463770594],\"yaxis\":\"y\",\"type\":\"scatter\"},{\"hovertemplate\":\"label=-4 F0072_dvlp.csv 280.0\\u003cbr\\u003etheta_list=%{x}\\u003cbr\\u003eintensity_list=%{y}\\u003cextra\\u003e\\u003c\\u002fextra\\u003e\",\"legendgroup\":\"-4 F0072_dvlp.csv 280.0\",\"marker\":{\"color\":\"#FF97FF\",\"symbol\":\"circle\"},\"mode\":\"markers\",\"name\":\"-4 F0072_dvlp.csv 280.0\",\"orientation\":\"v\",\"showlegend\":true,\"x\":[-110.0,-105.0,-100.0,-95.0,-90.0,-90.0,-85.0,-80.0,-75.0,-65.0],\"xaxis\":\"x\",\"y\":[958.8221506884804,1865.684472637575,3037.231827364712,3172.3998119663474,3053.74692652285,3071.3079439222533,2510.796243650252,1918.077870212338,1189.47305868312,39174.49381698834],\"yaxis\":\"y\",\"type\":\"scatter\"},{\"hovertemplate\":\"label=-4 F0072_dvlp.csv 285.2\\u003cbr\\u003etheta_list=%{x}\\u003cbr\\u003eintensity_list=%{y}\\u003cextra\\u003e\\u003c\\u002fextra\\u003e\",\"legendgroup\":\"-4 F0072_dvlp.csv 285.2\",\"marker\":{\"color\":\"#FECB52\",\"symbol\":\"circle\"},\"mode\":\"markers\",\"name\":\"-4 F0072_dvlp.csv 285.2\",\"orientation\":\"v\",\"showlegend\":true,\"x\":[-115.0,-110.0,-105.0,-100.0,-95.0,-90.0,-90.0,-85.0,-80.0,-75.0,-70.0],\"xaxis\":\"x\",\"y\":[357.57713036474945,937.5918929998538,1720.8080249263826,2258.2329372875656,2558.2193926212985,2471.6670129020586,2355.6037498715004,2153.295801922479,1522.01367495284,1056.2746074583788,390.4444800995636],\"yaxis\":\"y\",\"type\":\"scatter\"},{\"hovertemplate\":\"label=-4 F0072_dvlp.csv 288.6\\u003cbr\\u003etheta_list=%{x}\\u003cbr\\u003eintensity_list=%{y}\\u003cextra\\u003e\\u003c\\u002fextra\\u003e\",\"legendgroup\":\"-4 F0072_dvlp.csv 288.6\",\"marker\":{\"color\":\"#636efa\",\"symbol\":\"circle\"},\"mode\":\"markers\",\"name\":\"-4 F0072_dvlp.csv 288.6\",\"orientation\":\"v\",\"showlegend\":true,\"x\":[-115.0,-110.0,-105.0,-100.0,-95.0,-90.0,-90.0,-85.0,-85.0,-80.0,-80.0,-75.0,-70.0],\"xaxis\":\"x\",\"y\":[623.4452837538421,2894.659197029551,5627.8846882929065,8022.63815964182,9229.409438449422,8713.92314245599,11302.462483696136,7653.420138486055,10333.803762834284,6062.684077218039,7636.334208695549,5438.187942006041,2377.883841795441],\"yaxis\":\"y\",\"type\":\"scatter\"},{\"hovertemplate\":\"label=-3 F0072_dvlp.csv 280.0\\u003cbr\\u003etheta_list=%{x}\\u003cbr\\u003eintensity_list=%{y}\\u003cextra\\u003e\\u003c\\u002fextra\\u003e\",\"legendgroup\":\"-3 F0072_dvlp.csv 280.0\",\"marker\":{\"color\":\"#EF553B\",\"symbol\":\"circle\"},\"mode\":\"markers\",\"name\":\"-3 F0072_dvlp.csv 280.0\",\"orientation\":\"v\",\"showlegend\":true,\"x\":[-115.0,-110.0,-105.0,-100.0,-95.0,-90.0,-90.0,-85.0,-80.0,-75.0,-70.0],\"xaxis\":\"x\",\"y\":[457.4765584820674,1132.7279061803483,1209.1433701082544,1624.9553338348687,1179.3974604725026,1247.8203086486133,1269.566301623629,1630.372742490713,2171.8672985517887,2604.419903679777,3298.606651980712],\"yaxis\":\"y\",\"type\":\"scatter\"},{\"hovertemplate\":\"label=-3 F0072_dvlp.csv 285.2\\u003cbr\\u003etheta_list=%{x}\\u003cbr\\u003eintensity_list=%{y}\\u003cextra\\u003e\\u003c\\u002fextra\\u003e\",\"legendgroup\":\"-3 F0072_dvlp.csv 285.2\",\"marker\":{\"color\":\"#00cc96\",\"symbol\":\"circle\"},\"mode\":\"markers\",\"name\":\"-3 F0072_dvlp.csv 285.2\",\"orientation\":\"v\",\"showlegend\":true,\"x\":[-115.0,-110.0,-105.0,-100.0,-95.0,-90.0,-90.0,-85.0,-80.0,-75.0,-70.0,-65.0],\"xaxis\":\"x\",\"y\":[567.4030268019449,2004.283648085453,2159.376955135581,1894.0188591473168,1667.4293291081126,1659.291034489675,1931.9600138028727,1848.5058924205125,2058.1119939621785,2262.6714587661863,2457.727001764928,3841.257479239643],\"yaxis\":\"y\",\"type\":\"scatter\"},{\"hovertemplate\":\"label=-3 F0072_dvlp.csv 288.6\\u003cbr\\u003etheta_list=%{x}\\u003cbr\\u003eintensity_list=%{y}\\u003cextra\\u003e\\u003c\\u002fextra\\u003e\",\"legendgroup\":\"-3 F0072_dvlp.csv 288.6\",\"marker\":{\"color\":\"#ab63fa\",\"symbol\":\"circle\"},\"mode\":\"markers\",\"name\":\"-3 F0072_dvlp.csv 288.6\",\"orientation\":\"v\",\"showlegend\":true,\"x\":[-115.0,-110.0,-105.0,-100.0,-95.0,-90.0,-90.0,-85.0,-85.0,-80.0,-80.0,-75.0,-70.0,-65.0],\"xaxis\":\"x\",\"y\":[1428.057300411209,4133.033970131654,4338.433596484372,4180.07192330606,3419.265061330092,3228.0597831217133,5100.942145314903,4699.396815639835,5605.902449981438,6307.263524698772,7521.270235191338,9721.778736832,11183.25727063802,10789.379169962504],\"yaxis\":\"y\",\"type\":\"scatter\"},{\"hovertemplate\":\"label=-2 F0072_dvlp.csv 280.0\\u003cbr\\u003etheta_list=%{x}\\u003cbr\\u003eintensity_list=%{y}\\u003cextra\\u003e\\u003c\\u002fextra\\u003e\",\"legendgroup\":\"-2 F0072_dvlp.csv 280.0\",\"marker\":{\"color\":\"#FFA15A\",\"symbol\":\"circle\"},\"mode\":\"markers\",\"name\":\"-2 F0072_dvlp.csv 280.0\",\"orientation\":\"v\",\"showlegend\":true,\"x\":[-115.0,-110.0,-105.0,-100.0,-95.0,-90.0,-90.0,-85.0,-80.0,-75.0,-70.0,-65.0],\"xaxis\":\"x\",\"y\":[1051.9143642206027,4754.404724457625,8160.46051617095,12306.40774047803,14645.962999751286,14981.725647401916,14506.672731098091,14714.456079281716,14081.93293112575,12403.922837977349,10478.232898177905,9090.8787928775],\"yaxis\":\"y\",\"type\":\"scatter\"},{\"hovertemplate\":\"label=-2 F0072_dvlp.csv 285.2\\u003cbr\\u003etheta_list=%{x}\\u003cbr\\u003eintensity_list=%{y}\\u003cextra\\u003e\\u003c\\u002fextra\\u003e\",\"legendgroup\":\"-2 F0072_dvlp.csv 285.2\",\"marker\":{\"color\":\"#19d3f3\",\"symbol\":\"circle\"},\"mode\":\"markers\",\"name\":\"-2 F0072_dvlp.csv 285.2\",\"orientation\":\"v\",\"showlegend\":true,\"x\":[-115.0,-110.0,-105.0,-100.0,-95.0,-90.0,-90.0,-85.0,-80.0,-75.0,-70.0,-65.0],\"xaxis\":\"x\",\"y\":[1224.7049756864128,4424.016221110175,6816.635502345815,9948.932676933417,10236.093325263451,11449.821188621368,10933.845342671537,10984.872307250736,10533.604597550378,9135.263282275677,7672.666517539781,6848.975611193737],\"yaxis\":\"y\",\"type\":\"scatter\"},{\"hovertemplate\":\"label=-2 F0072_dvlp.csv 288.6\\u003cbr\\u003etheta_list=%{x}\\u003cbr\\u003eintensity_list=%{y}\\u003cextra\\u003e\\u003c\\u002fextra\\u003e\",\"legendgroup\":\"-2 F0072_dvlp.csv 288.6\",\"marker\":{\"color\":\"#FF6692\",\"symbol\":\"circle\"},\"mode\":\"markers\",\"name\":\"-2 F0072_dvlp.csv 288.6\",\"orientation\":\"v\",\"showlegend\":true,\"x\":[-115.0,-110.0,-105.0,-100.0,-95.0,-90.0,-90.0,-85.0,-85.0,-80.0,-80.0,-75.0,-70.0,-65.0],\"xaxis\":\"x\",\"y\":[4362.723211438226,17009.810810904863,29317.67464987229,39595.60846647859,45171.21478012524,46791.65458719994,57312.31848482297,45078.54570968924,57071.208823868095,43944.57632829241,54877.83777749918,48515.35801217385,39537.12868811216,25784.101674059024],\"yaxis\":\"y\",\"type\":\"scatter\"}],                        {\"template\":{\"data\":{\"histogram2dcontour\":[{\"type\":\"histogram2dcontour\",\"colorbar\":{\"outlinewidth\":0,\"ticks\":\"\"},\"colorscale\":[[0.0,\"#0d0887\"],[0.1111111111111111,\"#46039f\"],[0.2222222222222222,\"#7201a8\"],[0.3333333333333333,\"#9c179e\"],[0.4444444444444444,\"#bd3786\"],[0.5555555555555556,\"#d8576b\"],[0.6666666666666666,\"#ed7953\"],[0.7777777777777778,\"#fb9f3a\"],[0.8888888888888888,\"#fdca26\"],[1.0,\"#f0f921\"]]}],\"choropleth\":[{\"type\":\"choropleth\",\"colorbar\":{\"outlinewidth\":0,\"ticks\":\"\"}}],\"histogram2d\":[{\"type\":\"histogram2d\",\"colorbar\":{\"outlinewidth\":0,\"ticks\":\"\"},\"colorscale\":[[0.0,\"#0d0887\"],[0.1111111111111111,\"#46039f\"],[0.2222222222222222,\"#7201a8\"],[0.3333333333333333,\"#9c179e\"],[0.4444444444444444,\"#bd3786\"],[0.5555555555555556,\"#d8576b\"],[0.6666666666666666,\"#ed7953\"],[0.7777777777777778,\"#fb9f3a\"],[0.8888888888888888,\"#fdca26\"],[1.0,\"#f0f921\"]]}],\"heatmap\":[{\"type\":\"heatmap\",\"colorbar\":{\"outlinewidth\":0,\"ticks\":\"\"},\"colorscale\":[[0.0,\"#0d0887\"],[0.1111111111111111,\"#46039f\"],[0.2222222222222222,\"#7201a8\"],[0.3333333333333333,\"#9c179e\"],[0.4444444444444444,\"#bd3786\"],[0.5555555555555556,\"#d8576b\"],[0.6666666666666666,\"#ed7953\"],[0.7777777777777778,\"#fb9f3a\"],[0.8888888888888888,\"#fdca26\"],[1.0,\"#f0f921\"]]}],\"heatmapgl\":[{\"type\":\"heatmapgl\",\"colorbar\":{\"outlinewidth\":0,\"ticks\":\"\"},\"colorscale\":[[0.0,\"#0d0887\"],[0.1111111111111111,\"#46039f\"],[0.2222222222222222,\"#7201a8\"],[0.3333333333333333,\"#9c179e\"],[0.4444444444444444,\"#bd3786\"],[0.5555555555555556,\"#d8576b\"],[0.6666666666666666,\"#ed7953\"],[0.7777777777777778,\"#fb9f3a\"],[0.8888888888888888,\"#fdca26\"],[1.0,\"#f0f921\"]]}],\"contourcarpet\":[{\"type\":\"contourcarpet\",\"colorbar\":{\"outlinewidth\":0,\"ticks\":\"\"}}],\"contour\":[{\"type\":\"contour\",\"colorbar\":{\"outlinewidth\":0,\"ticks\":\"\"},\"colorscale\":[[0.0,\"#0d0887\"],[0.1111111111111111,\"#46039f\"],[0.2222222222222222,\"#7201a8\"],[0.3333333333333333,\"#9c179e\"],[0.4444444444444444,\"#bd3786\"],[0.5555555555555556,\"#d8576b\"],[0.6666666666666666,\"#ed7953\"],[0.7777777777777778,\"#fb9f3a\"],[0.8888888888888888,\"#fdca26\"],[1.0,\"#f0f921\"]]}],\"surface\":[{\"type\":\"surface\",\"colorbar\":{\"outlinewidth\":0,\"ticks\":\"\"},\"colorscale\":[[0.0,\"#0d0887\"],[0.1111111111111111,\"#46039f\"],[0.2222222222222222,\"#7201a8\"],[0.3333333333333333,\"#9c179e\"],[0.4444444444444444,\"#bd3786\"],[0.5555555555555556,\"#d8576b\"],[0.6666666666666666,\"#ed7953\"],[0.7777777777777778,\"#fb9f3a\"],[0.8888888888888888,\"#fdca26\"],[1.0,\"#f0f921\"]]}],\"mesh3d\":[{\"type\":\"mesh3d\",\"colorbar\":{\"outlinewidth\":0,\"ticks\":\"\"}}],\"scatter\":[{\"fillpattern\":{\"fillmode\":\"overlay\",\"size\":10,\"solidity\":0.2},\"type\":\"scatter\"}],\"parcoords\":[{\"type\":\"parcoords\",\"line\":{\"colorbar\":{\"outlinewidth\":0,\"ticks\":\"\"}}}],\"scatterpolargl\":[{\"type\":\"scatterpolargl\",\"marker\":{\"colorbar\":{\"outlinewidth\":0,\"ticks\":\"\"}}}],\"bar\":[{\"error_x\":{\"color\":\"#2a3f5f\"},\"error_y\":{\"color\":\"#2a3f5f\"},\"marker\":{\"line\":{\"color\":\"#E5ECF6\",\"width\":0.5},\"pattern\":{\"fillmode\":\"overlay\",\"size\":10,\"solidity\":0.2}},\"type\":\"bar\"}],\"scattergeo\":[{\"type\":\"scattergeo\",\"marker\":{\"colorbar\":{\"outlinewidth\":0,\"ticks\":\"\"}}}],\"scatterpolar\":[{\"type\":\"scatterpolar\",\"marker\":{\"colorbar\":{\"outlinewidth\":0,\"ticks\":\"\"}}}],\"histogram\":[{\"marker\":{\"pattern\":{\"fillmode\":\"overlay\",\"size\":10,\"solidity\":0.2}},\"type\":\"histogram\"}],\"scattergl\":[{\"type\":\"scattergl\",\"marker\":{\"colorbar\":{\"outlinewidth\":0,\"ticks\":\"\"}}}],\"scatter3d\":[{\"type\":\"scatter3d\",\"line\":{\"colorbar\":{\"outlinewidth\":0,\"ticks\":\"\"}},\"marker\":{\"colorbar\":{\"outlinewidth\":0,\"ticks\":\"\"}}}],\"scattermapbox\":[{\"type\":\"scattermapbox\",\"marker\":{\"colorbar\":{\"outlinewidth\":0,\"ticks\":\"\"}}}],\"scatterternary\":[{\"type\":\"scatterternary\",\"marker\":{\"colorbar\":{\"outlinewidth\":0,\"ticks\":\"\"}}}],\"scattercarpet\":[{\"type\":\"scattercarpet\",\"marker\":{\"colorbar\":{\"outlinewidth\":0,\"ticks\":\"\"}}}],\"carpet\":[{\"aaxis\":{\"endlinecolor\":\"#2a3f5f\",\"gridcolor\":\"white\",\"linecolor\":\"white\",\"minorgridcolor\":\"white\",\"startlinecolor\":\"#2a3f5f\"},\"baxis\":{\"endlinecolor\":\"#2a3f5f\",\"gridcolor\":\"white\",\"linecolor\":\"white\",\"minorgridcolor\":\"white\",\"startlinecolor\":\"#2a3f5f\"},\"type\":\"carpet\"}],\"table\":[{\"cells\":{\"fill\":{\"color\":\"#EBF0F8\"},\"line\":{\"color\":\"white\"}},\"header\":{\"fill\":{\"color\":\"#C8D4E3\"},\"line\":{\"color\":\"white\"}},\"type\":\"table\"}],\"barpolar\":[{\"marker\":{\"line\":{\"color\":\"#E5ECF6\",\"width\":0.5},\"pattern\":{\"fillmode\":\"overlay\",\"size\":10,\"solidity\":0.2}},\"type\":\"barpolar\"}],\"pie\":[{\"automargin\":true,\"type\":\"pie\"}]},\"layout\":{\"autotypenumbers\":\"strict\",\"colorway\":[\"#636efa\",\"#EF553B\",\"#00cc96\",\"#ab63fa\",\"#FFA15A\",\"#19d3f3\",\"#FF6692\",\"#B6E880\",\"#FF97FF\",\"#FECB52\"],\"font\":{\"color\":\"#2a3f5f\"},\"hovermode\":\"closest\",\"hoverlabel\":{\"align\":\"left\"},\"paper_bgcolor\":\"white\",\"plot_bgcolor\":\"#E5ECF6\",\"polar\":{\"bgcolor\":\"#E5ECF6\",\"angularaxis\":{\"gridcolor\":\"white\",\"linecolor\":\"white\",\"ticks\":\"\"},\"radialaxis\":{\"gridcolor\":\"white\",\"linecolor\":\"white\",\"ticks\":\"\"}},\"ternary\":{\"bgcolor\":\"#E5ECF6\",\"aaxis\":{\"gridcolor\":\"white\",\"linecolor\":\"white\",\"ticks\":\"\"},\"baxis\":{\"gridcolor\":\"white\",\"linecolor\":\"white\",\"ticks\":\"\"},\"caxis\":{\"gridcolor\":\"white\",\"linecolor\":\"white\",\"ticks\":\"\"}},\"coloraxis\":{\"colorbar\":{\"outlinewidth\":0,\"ticks\":\"\"}},\"colorscale\":{\"sequential\":[[0.0,\"#0d0887\"],[0.1111111111111111,\"#46039f\"],[0.2222222222222222,\"#7201a8\"],[0.3333333333333333,\"#9c179e\"],[0.4444444444444444,\"#bd3786\"],[0.5555555555555556,\"#d8576b\"],[0.6666666666666666,\"#ed7953\"],[0.7777777777777778,\"#fb9f3a\"],[0.8888888888888888,\"#fdca26\"],[1.0,\"#f0f921\"]],\"sequentialminus\":[[0.0,\"#0d0887\"],[0.1111111111111111,\"#46039f\"],[0.2222222222222222,\"#7201a8\"],[0.3333333333333333,\"#9c179e\"],[0.4444444444444444,\"#bd3786\"],[0.5555555555555556,\"#d8576b\"],[0.6666666666666666,\"#ed7953\"],[0.7777777777777778,\"#fb9f3a\"],[0.8888888888888888,\"#fdca26\"],[1.0,\"#f0f921\"]],\"diverging\":[[0,\"#8e0152\"],[0.1,\"#c51b7d\"],[0.2,\"#de77ae\"],[0.3,\"#f1b6da\"],[0.4,\"#fde0ef\"],[0.5,\"#f7f7f7\"],[0.6,\"#e6f5d0\"],[0.7,\"#b8e186\"],[0.8,\"#7fbc41\"],[0.9,\"#4d9221\"],[1,\"#276419\"]]},\"xaxis\":{\"gridcolor\":\"white\",\"linecolor\":\"white\",\"ticks\":\"\",\"title\":{\"standoff\":15},\"zerolinecolor\":\"white\",\"automargin\":true,\"zerolinewidth\":2},\"yaxis\":{\"gridcolor\":\"white\",\"linecolor\":\"white\",\"ticks\":\"\",\"title\":{\"standoff\":15},\"zerolinecolor\":\"white\",\"automargin\":true,\"zerolinewidth\":2},\"scene\":{\"xaxis\":{\"backgroundcolor\":\"#E5ECF6\",\"gridcolor\":\"white\",\"linecolor\":\"white\",\"showbackground\":true,\"ticks\":\"\",\"zerolinecolor\":\"white\",\"gridwidth\":2},\"yaxis\":{\"backgroundcolor\":\"#E5ECF6\",\"gridcolor\":\"white\",\"linecolor\":\"white\",\"showbackground\":true,\"ticks\":\"\",\"zerolinecolor\":\"white\",\"gridwidth\":2},\"zaxis\":{\"backgroundcolor\":\"#E5ECF6\",\"gridcolor\":\"white\",\"linecolor\":\"white\",\"showbackground\":true,\"ticks\":\"\",\"zerolinecolor\":\"white\",\"gridwidth\":2}},\"shapedefaults\":{\"line\":{\"color\":\"#2a3f5f\"}},\"annotationdefaults\":{\"arrowcolor\":\"#2a3f5f\",\"arrowhead\":0,\"arrowwidth\":1},\"geo\":{\"bgcolor\":\"white\",\"landcolor\":\"#E5ECF6\",\"subunitcolor\":\"white\",\"showland\":true,\"showlakes\":true,\"lakecolor\":\"white\"},\"title\":{\"x\":0.05},\"mapbox\":{\"style\":\"light\"}}},\"xaxis\":{\"anchor\":\"y\",\"domain\":[0.0,1.0],\"title\":{\"text\":\"theta_list\"},\"range\":[-115.5,-64.5]},\"yaxis\":{\"anchor\":\"x\",\"domain\":[0.0,1.0],\"title\":{\"text\":\"intensity_list\"},\"type\":\"linear\"},\"legend\":{\"title\":{\"text\":\"label\"},\"tracegroupgap\":0},\"margin\":{\"t\":60}},                        {\"responsive\": true}                    ).then(function(){\n",
       "                            \n",
       "var gd = document.getElementById('19861b38-6b00-4a39-a2d5-81e30e5eb2e4');\n",
       "var x = new MutationObserver(function (mutations, observer) {{\n",
       "        var display = window.getComputedStyle(gd).display;\n",
       "        if (!display || display === 'none') {{\n",
       "            console.log([gd, 'removed!']);\n",
       "            Plotly.purge(gd);\n",
       "            observer.disconnect();\n",
       "        }}\n",
       "}});\n",
       "\n",
       "// Listen for the removal of the full notebook cells\n",
       "var notebookContainer = gd.closest('#notebook-container');\n",
       "if (notebookContainer) {{\n",
       "    x.observe(notebookContainer, {childList: true});\n",
       "}}\n",
       "\n",
       "// Listen for the clearing of the current output cell\n",
       "var outputEl = gd.closest('.output');\n",
       "if (outputEl) {{\n",
       "    x.observe(outputEl, {childList: true});\n",
       "}}\n",
       "\n",
       "                        })                };                });            </script>        </div>"
      ]
     },
     "metadata": {},
     "output_type": "display_data"
    }
   ],
   "source": [
    "entry = [1,2,3] #[1,2,3]\n",
    "order = orders[:3]\n",
    "scale = 'linear'\n",
    "norm = False\n",
    "filtered_df = update_graph(entry, order,scale,norm)"
   ]
  },
  {
   "cell_type": "code",
   "execution_count": 22,
   "metadata": {},
   "outputs": [
    {
     "data": {
      "text/plain": [
       "[<matplotlib.lines.Line2D at 0x7492499456d0>]"
      ]
     },
     "execution_count": 22,
     "metadata": {},
     "output_type": "execute_result"
    },
    {
     "data": {
      "image/png": "[encoded data removed]",
      "text/plain": [
       "<Figure size 640x480 with 1 Axes>"
      ]
     },
     "metadata": {},
     "output_type": "display_data"
    }
   ],
   "source": [
    "import matplotlib.pyplot as plt\n",
    "plt.plot(filtered_df['theta_list'],filtered_df['intensity_list'],'.')"
   ]
  },
  {
   "cell_type": "code",
   "execution_count": 4,
   "metadata": {},
   "outputs": [
    {
     "data": {
      "text/html": [
       "<div>\n",
       "<style scoped>\n",
       "    .dataframe tbody tr th:only-of-type {\n",
       "        vertical-align: middle;\n",
       "    }\n",
       "\n",
       "    .dataframe tbody tr th {\n",
       "        vertical-align: top;\n",
       "    }\n",
       "\n",
       "    .dataframe thead th {\n",
       "        text-align: right;\n",
       "    }\n",
       "</style>\n",
       "<table border=\"1\" class=\"dataframe\">\n",
       "  <thead>\n",
       "    <tr style=\"text-align: right;\">\n",
       "      <th></th>\n",
       "      <th>Unnamed: 0</th>\n",
       "      <th>order_list</th>\n",
       "      <th>energy_list</th>\n",
       "      <th>theta_list</th>\n",
       "      <th>file_list</th>\n",
       "      <th>intensity_list</th>\n",
       "      <th>x_list</th>\n",
       "      <th>y_list</th>\n",
       "      <th>normalized_intensity_list</th>\n",
       "    </tr>\n",
       "  </thead>\n",
       "  <tbody>\n",
       "    <tr>\n",
       "      <th>0</th>\n",
       "      <td>0</td>\n",
       "      <td>-4</td>\n",
       "      <td>280.0</td>\n",
       "      <td>-95.0</td>\n",
       "      <td>Captured Image 1215115332.fits</td>\n",
       "      <td>34.579377</td>\n",
       "      <td>535.0</td>\n",
       "      <td>47.0</td>\n",
       "      <td>0.017313</td>\n",
       "    </tr>\n",
       "    <tr>\n",
       "      <th>1</th>\n",
       "      <td>1</td>\n",
       "      <td>-4</td>\n",
       "      <td>280.0</td>\n",
       "      <td>-90.0</td>\n",
       "      <td>Captured Image 1215114933.fits</td>\n",
       "      <td>30.513297</td>\n",
       "      <td>534.0</td>\n",
       "      <td>50.0</td>\n",
       "      <td>0.015892</td>\n",
       "    </tr>\n",
       "    <tr>\n",
       "      <th>2</th>\n",
       "      <td>2</td>\n",
       "      <td>-4</td>\n",
       "      <td>280.0</td>\n",
       "      <td>-80.0</td>\n",
       "      <td>Captured Image 1215120006.fits</td>\n",
       "      <td>28.282794</td>\n",
       "      <td>533.0</td>\n",
       "      <td>31.0</td>\n",
       "      <td>0.013994</td>\n",
       "    </tr>\n",
       "    <tr>\n",
       "      <th>3</th>\n",
       "      <td>3</td>\n",
       "      <td>-4</td>\n",
       "      <td>280.0</td>\n",
       "      <td>-75.0</td>\n",
       "      <td>Captured Image 1215120108.fits</td>\n",
       "      <td>26.688761</td>\n",
       "      <td>531.0</td>\n",
       "      <td>13.0</td>\n",
       "      <td>0.012388</td>\n",
       "    </tr>\n",
       "    <tr>\n",
       "      <th>4</th>\n",
       "      <td>4</td>\n",
       "      <td>-4</td>\n",
       "      <td>285.2</td>\n",
       "      <td>-95.0</td>\n",
       "      <td>Captured Image 1215115245.fits</td>\n",
       "      <td>185.607493</td>\n",
       "      <td>535.0</td>\n",
       "      <td>61.0</td>\n",
       "      <td>0.371114</td>\n",
       "    </tr>\n",
       "    <tr>\n",
       "      <th>...</th>\n",
       "      <td>...</td>\n",
       "      <td>...</td>\n",
       "      <td>...</td>\n",
       "      <td>...</td>\n",
       "      <td>...</td>\n",
       "      <td>...</td>\n",
       "      <td>...</td>\n",
       "      <td>...</td>\n",
       "      <td>...</td>\n",
       "    </tr>\n",
       "    <tr>\n",
       "      <th>162</th>\n",
       "      <td>162</td>\n",
       "      <td>4</td>\n",
       "      <td>288.6</td>\n",
       "      <td>-90.0</td>\n",
       "      <td>Captured Image 1215120650.fits</td>\n",
       "      <td>75.415288</td>\n",
       "      <td>534.0</td>\n",
       "      <td>974.0</td>\n",
       "      <td>0.021259</td>\n",
       "    </tr>\n",
       "    <tr>\n",
       "      <th>163</th>\n",
       "      <td>163</td>\n",
       "      <td>4</td>\n",
       "      <td>288.6</td>\n",
       "      <td>-85.0</td>\n",
       "      <td>Captured Image 1215115754.fits</td>\n",
       "      <td>90.312727</td>\n",
       "      <td>535.0</td>\n",
       "      <td>972.0</td>\n",
       "      <td>0.021848</td>\n",
       "    </tr>\n",
       "    <tr>\n",
       "      <th>164</th>\n",
       "      <td>164</td>\n",
       "      <td>4</td>\n",
       "      <td>288.6</td>\n",
       "      <td>-80.0</td>\n",
       "      <td>Captured Image 1215115840.fits</td>\n",
       "      <td>88.246802</td>\n",
       "      <td>535.0</td>\n",
       "      <td>972.0</td>\n",
       "      <td>0.018124</td>\n",
       "    </tr>\n",
       "    <tr>\n",
       "      <th>165</th>\n",
       "      <td>165</td>\n",
       "      <td>4</td>\n",
       "      <td>288.6</td>\n",
       "      <td>-75.0</td>\n",
       "      <td>Captured Image 1215120226.fits</td>\n",
       "      <td>87.990929</td>\n",
       "      <td>536.0</td>\n",
       "      <td>976.0</td>\n",
       "      <td>0.017042</td>\n",
       "    </tr>\n",
       "    <tr>\n",
       "      <th>166</th>\n",
       "      <td>166</td>\n",
       "      <td>4</td>\n",
       "      <td>288.6</td>\n",
       "      <td>-70.0</td>\n",
       "      <td>Captured Image 1215120304.fits</td>\n",
       "      <td>65.231779</td>\n",
       "      <td>537.0</td>\n",
       "      <td>982.0</td>\n",
       "      <td>0.013315</td>\n",
       "    </tr>\n",
       "  </tbody>\n",
       "</table>\n",
       "<p>167 rows × 9 columns</p>\n",
       "</div>"
      ],
      "text/plain": [
       "     Unnamed: 0  order_list  energy_list  theta_list  \\\n",
       "0             0          -4        280.0       -95.0   \n",
       "1             1          -4        280.0       -90.0   \n",
       "2             2          -4        280.0       -80.0   \n",
       "3             3          -4        280.0       -75.0   \n",
       "4             4          -4        285.2       -95.0   \n",
       "..          ...         ...          ...         ...   \n",
       "162         162           4        288.6       -90.0   \n",
       "163         163           4        288.6       -85.0   \n",
       "164         164           4        288.6       -80.0   \n",
       "165         165           4        288.6       -75.0   \n",
       "166         166           4        288.6       -70.0   \n",
       "\n",
       "                          file_list  intensity_list  x_list  y_list  \\\n",
       "0    Captured Image 1215115332.fits       34.579377   535.0    47.0   \n",
       "1    Captured Image 1215114933.fits       30.513297   534.0    50.0   \n",
       "2    Captured Image 1215120006.fits       28.282794   533.0    31.0   \n",
       "3    Captured Image 1215120108.fits       26.688761   531.0    13.0   \n",
       "4    Captured Image 1215115245.fits      185.607493   535.0    61.0   \n",
       "..                              ...             ...     ...     ...   \n",
       "162  Captured Image 1215120650.fits       75.415288   534.0   974.0   \n",
       "163  Captured Image 1215115754.fits       90.312727   535.0   972.0   \n",
       "164  Captured Image 1215115840.fits       88.246802   535.0   972.0   \n",
       "165  Captured Image 1215120226.fits       87.990929   536.0   976.0   \n",
       "166  Captured Image 1215120304.fits       65.231779   537.0   982.0   \n",
       "\n",
       "     normalized_intensity_list  \n",
       "0                     0.017313  \n",
       "1                     0.015892  \n",
       "2                     0.013994  \n",
       "3                     0.012388  \n",
       "4                     0.371114  \n",
       "..                         ...  \n",
       "162                   0.021259  \n",
       "163                   0.021848  \n",
       "164                   0.018124  \n",
       "165                   0.017042  \n",
       "166                   0.013315  \n",
       "\n",
       "[167 rows x 9 columns]"
      ]
     },
     "execution_count": 4,
     "metadata": {},
     "output_type": "execute_result"
    }
   ],
   "source": [
    "exp_data_all[0]"
   ]
  },
  {
   "cell_type": "code",
   "execution_count": null,
   "metadata": {},
   "outputs": [],
   "source": []
  }
 ],
 "metadata": {
  "kernelspec": {
   "display_name": ".venv",
   "language": "python",
   "name": "python3"
  },
  "language_info": {
   "codemirror_mode": {
    "name": "ipython",
    "version": 3
   },
   "file_extension": ".py",
   "mimetype": "text/x-python",
   "name": "python",
   "nbconvert_exporter": "python",
   "pygments_lexer": "ipython3",
   "version": "3.12.3"
  }
 },
 "nbformat": 4,
 "nbformat_minor": 2
}
